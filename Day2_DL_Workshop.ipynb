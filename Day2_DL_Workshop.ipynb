{
  "nbformat": 4,
  "nbformat_minor": 0,
  "metadata": {
    "colab": {
      "provenance": [],
      "toc_visible": true,
      "gpuType": "T4",
      "authorship_tag": "ABX9TyMGaEws/LGvKyGrNOZIlZr8",
      "include_colab_link": true
    },
    "kernelspec": {
      "name": "python3",
      "display_name": "Python 3"
    },
    "language_info": {
      "name": "python"
    }
  },
  "cells": [
    {
      "cell_type": "markdown",
      "metadata": {
        "id": "view-in-github",
        "colab_type": "text"
      },
      "source": [
        "<a href=\"https://colab.research.google.com/github/the-y9/Deep-Learning-using-PyTorch/blob/main/Day2_DL_Workshop.ipynb\" target=\"_parent\"><img src=\"https://colab.research.google.com/assets/colab-badge.svg\" alt=\"Open In Colab\"/></a>"
      ]
    },
    {
      "cell_type": "markdown",
      "source": [
        "# Artificial Neural Networks\n",
        "- optimiztion algorithms - torch.optim"
      ],
      "metadata": {
        "id": "DnVweZfSdRY8"
      }
    },
    {
      "cell_type": "code",
      "execution_count": 1,
      "metadata": {
        "id": "0uPCE6NCcYEd"
      },
      "outputs": [],
      "source": [
        "import torch.optim as optim"
      ]
    },
    {
      "cell_type": "markdown",
      "source": [
        "## Optimizers"
      ],
      "metadata": {
        "id": "QDr102VXcv3M"
      }
    },
    {
      "cell_type": "code",
      "source": [
        "# optimizer = optim.SGD(model.parameters(), lr=0.1,) # model will be build, lr = momentum, nesterov = boolean, weight_decay for regularization"
      ],
      "metadata": {
        "id": "EAaB_kKZdxI0"
      },
      "execution_count": 2,
      "outputs": []
    },
    {
      "cell_type": "code",
      "source": [
        "# optimizer = optim.Adagrad(p, lr = 0.01)"
      ],
      "metadata": {
        "id": "6N9QZDyuefEW"
      },
      "execution_count": 3,
      "outputs": []
    },
    {
      "cell_type": "code",
      "source": [
        "# optimizer = optim.RMSProp(p, lr = 0.01, alpha = 0.99)"
      ],
      "metadata": {
        "id": "4x7hRwdbeoql"
      },
      "execution_count": 4,
      "outputs": []
    },
    {
      "cell_type": "code",
      "source": [
        "# optimizer = optim.Adam(p,lr = 0.01)"
      ],
      "metadata": {
        "id": "Dz0ofgPJe3rw"
      },
      "execution_count": 5,
      "outputs": []
    },
    {
      "cell_type": "markdown",
      "source": [
        "## ANN\n",
        "- nn.Linear\n",
        "- nn.Module\n",
        "- nn.Sequential"
      ],
      "metadata": {
        "id": "03EMZtxcfIhg"
      }
    },
    {
      "cell_type": "markdown",
      "source": [
        "###  nn.Linear\n",
        "Fully Connected layers\n",
        "\n",
        "$y= Wx+b$\n",
        "\n",
        "in-features, out-features, bias(= True by default)"
      ],
      "metadata": {
        "id": "Lk8RN0IFf2dr"
      }
    },
    {
      "cell_type": "code",
      "source": [
        "import torch\n",
        "import torch.nn as nn"
      ],
      "metadata": {
        "id": "OMIzN-aVfKIz"
      },
      "execution_count": 6,
      "outputs": []
    },
    {
      "cell_type": "code",
      "source": [
        "layer1 = nn.Linear(in_features = 3, out_features= 2)\n",
        "in1 = torch.tensor([1.0,2,3])\n",
        "out1 = layer1(in1)\n",
        "print(out1)"
      ],
      "metadata": {
        "colab": {
          "base_uri": "https://localhost:8080/"
        },
        "id": "XJLfTqlLgT-Y",
        "outputId": "1ad2cde8-2cc9-4251-979b-5805b6965276"
      },
      "execution_count": 7,
      "outputs": [
        {
          "output_type": "stream",
          "name": "stdout",
          "text": [
            "tensor([-1.0533,  0.4730], grad_fn=<ViewBackward0>)\n"
          ]
        }
      ]
    },
    {
      "cell_type": "code",
      "source": [
        "layer1.weight"
      ],
      "metadata": {
        "colab": {
          "base_uri": "https://localhost:8080/"
        },
        "id": "3tSOo174gw_V",
        "outputId": "43d8f629-2120-457a-83c8-b989e25d2d49"
      },
      "execution_count": 8,
      "outputs": [
        {
          "output_type": "execute_result",
          "data": {
            "text/plain": [
              "Parameter containing:\n",
              "tensor([[ 0.1355, -0.0064, -0.3256],\n",
              "        [ 0.0345,  0.5396, -0.3962]], requires_grad=True)"
            ]
          },
          "metadata": {},
          "execution_count": 8
        }
      ]
    },
    {
      "cell_type": "code",
      "source": [
        "layer1.bias"
      ],
      "metadata": {
        "colab": {
          "base_uri": "https://localhost:8080/"
        },
        "id": "72JULHwdhU14",
        "outputId": "56866044-40bd-4093-b59b-f3f8fe409b89"
      },
      "execution_count": 9,
      "outputs": [
        {
          "output_type": "execute_result",
          "data": {
            "text/plain": [
              "Parameter containing:\n",
              "tensor([-0.1991,  0.5479], requires_grad=True)"
            ]
          },
          "metadata": {},
          "execution_count": 9
        }
      ]
    },
    {
      "cell_type": "code",
      "source": [
        "type(layer1.weight),type(layer1.bias)"
      ],
      "metadata": {
        "colab": {
          "base_uri": "https://localhost:8080/"
        },
        "id": "uNzr3UbKhYUO",
        "outputId": "3ecd6692-2ca1-4f01-d63b-b30e406102c7"
      },
      "execution_count": 10,
      "outputs": [
        {
          "output_type": "execute_result",
          "data": {
            "text/plain": [
              "(torch.nn.parameter.Parameter, torch.nn.parameter.Parameter)"
            ]
          },
          "metadata": {},
          "execution_count": 10
        }
      ]
    },
    {
      "cell_type": "code",
      "source": [
        "layer1.weight.data"
      ],
      "metadata": {
        "colab": {
          "base_uri": "https://localhost:8080/"
        },
        "id": "kbyyRml_hzk-",
        "outputId": "4ba068c0-9d0b-43b3-f668-ba2f59e29f5b"
      },
      "execution_count": 11,
      "outputs": [
        {
          "output_type": "execute_result",
          "data": {
            "text/plain": [
              "tensor([[ 0.1355, -0.0064, -0.3256],\n",
              "        [ 0.0345,  0.5396, -0.3962]])"
            ]
          },
          "metadata": {},
          "execution_count": 11
        }
      ]
    },
    {
      "cell_type": "code",
      "source": [
        "new_weight = torch.tensor([[0.5,-0.5,1],[1.5,-1.5,0]])\n",
        "new_bias = torch.tensor([0.1,-0.1])\n",
        "\n",
        "layer1.weight.data = new_weight\n",
        "layer1.bias.data = new_bias"
      ],
      "metadata": {
        "id": "JTcR1qfmh74M"
      },
      "execution_count": 12,
      "outputs": []
    },
    {
      "cell_type": "code",
      "source": [
        "out1 = layer1(in1)\n",
        "out1"
      ],
      "metadata": {
        "colab": {
          "base_uri": "https://localhost:8080/"
        },
        "id": "Rf30ZdYjifkp",
        "outputId": "440551e0-569d-4eb1-b177-43dc3edc622b"
      },
      "execution_count": 13,
      "outputs": [
        {
          "output_type": "execute_result",
          "data": {
            "text/plain": [
              "tensor([ 2.6000, -1.6000], grad_fn=<ViewBackward0>)"
            ]
          },
          "metadata": {},
          "execution_count": 13
        }
      ]
    },
    {
      "cell_type": "code",
      "source": [
        "new_weight.requires_grad"
      ],
      "metadata": {
        "colab": {
          "base_uri": "https://localhost:8080/"
        },
        "id": "9s5qUT3PinHa",
        "outputId": "838edfd3-9801-440c-e189-103fdc9e55c8"
      },
      "execution_count": 14,
      "outputs": [
        {
          "output_type": "execute_result",
          "data": {
            "text/plain": [
              "False"
            ]
          },
          "metadata": {},
          "execution_count": 14
        }
      ]
    },
    {
      "cell_type": "code",
      "source": [
        "# but\n",
        "layer1.weight.requires_grad"
      ],
      "metadata": {
        "colab": {
          "base_uri": "https://localhost:8080/"
        },
        "id": "RzedsnRQirqi",
        "outputId": "184f387b-df8d-4bc4-d84a-5a119cd37253"
      },
      "execution_count": 15,
      "outputs": [
        {
          "output_type": "execute_result",
          "data": {
            "text/plain": [
              "True"
            ]
          },
          "metadata": {},
          "execution_count": 15
        }
      ]
    },
    {
      "cell_type": "code",
      "source": [
        "batch_input = torch.tensor([[1.0,2,3],[3.0,5,6],[7.0,8,9],[7.0,8,9]])\n",
        "batch_output = layer1(batch_input)\n",
        "print(batch_output)"
      ],
      "metadata": {
        "colab": {
          "base_uri": "https://localhost:8080/"
        },
        "id": "MdMxB6SFi8e_",
        "outputId": "8550317a-7037-45b1-bee3-cd0660c126d4"
      },
      "execution_count": 16,
      "outputs": [
        {
          "output_type": "stream",
          "name": "stdout",
          "text": [
            "tensor([[ 2.6000, -1.6000],\n",
            "        [ 5.1000, -3.1000],\n",
            "        [ 8.6000, -1.6000],\n",
            "        [ 8.6000, -1.6000]], grad_fn=<AddmmBackward0>)\n"
          ]
        }
      ]
    },
    {
      "cell_type": "markdown",
      "source": [
        "### nn.Module\n",
        "- ```def __init__(self)```\n",
        "- ```def forward()```\n"
      ],
      "metadata": {
        "id": "fla_DpfHjmSy"
      }
    },
    {
      "cell_type": "code",
      "source": [
        "class LinearRegressionModel(nn.Module):\n",
        "  def __init__(self):\n",
        "    super(LinearRegressionModel, self).__init__()\n",
        "    self.layer1 = nn.Linear(in_features = 1, out_features = 1)\n",
        "\n",
        "  def forward(self, x):\n",
        "    return self.layer1(x)\n",
        "\n",
        "model = LinearRegressionModel()\n"
      ],
      "metadata": {
        "id": "88CTxhnMj8Wa"
      },
      "execution_count": 17,
      "outputs": []
    },
    {
      "cell_type": "code",
      "source": [
        "X = torch.linspace(0,10,15).reshape(-1,1)\n",
        "pred = model(X)\n",
        "pred"
      ],
      "metadata": {
        "colab": {
          "base_uri": "https://localhost:8080/"
        },
        "id": "CkDm8pphl_Pw",
        "outputId": "8426254d-3c16-4606-a367-625a1dc5b33c"
      },
      "execution_count": 18,
      "outputs": [
        {
          "output_type": "execute_result",
          "data": {
            "text/plain": [
              "tensor([[-0.0260],\n",
              "        [ 0.4987],\n",
              "        [ 1.0233],\n",
              "        [ 1.5479],\n",
              "        [ 2.0726],\n",
              "        [ 2.5972],\n",
              "        [ 3.1218],\n",
              "        [ 3.6465],\n",
              "        [ 4.1711],\n",
              "        [ 4.6957],\n",
              "        [ 5.2204],\n",
              "        [ 5.7450],\n",
              "        [ 6.2696],\n",
              "        [ 6.7942],\n",
              "        [ 7.3189]], grad_fn=<AddmmBackward0>)"
            ]
          },
          "metadata": {},
          "execution_count": 18
        }
      ]
    },
    {
      "cell_type": "code",
      "source": [
        "model.layer1.weight, model.layer1.bias"
      ],
      "metadata": {
        "colab": {
          "base_uri": "https://localhost:8080/"
        },
        "id": "sk0hxVLPmaA4",
        "outputId": "21131750-bc3e-49ad-c72f-311ea32fa881"
      },
      "execution_count": 19,
      "outputs": [
        {
          "output_type": "execute_result",
          "data": {
            "text/plain": [
              "(Parameter containing:\n",
              " tensor([[0.7345]], requires_grad=True),\n",
              " Parameter containing:\n",
              " tensor([-0.0260], requires_grad=True))"
            ]
          },
          "metadata": {},
          "execution_count": 19
        }
      ]
    },
    {
      "cell_type": "code",
      "source": [
        "class SimpleModel(nn.Module):\n",
        "  def __init__(self):\n",
        "    super(SimpleModel,self).__init__()\n",
        "    self.layer1 = nn.Linear(10,5)\n",
        "    self.relu = nn.ReLU()\n",
        "    self.layer2 = nn.Linear(5,1)\n",
        "\n",
        "  def forward(self, x):\n",
        "      # sequence matters\n",
        "      x = self.layer1(x)\n",
        "      x = self.relu(x)\n",
        "      x = self.layer2(x)\n",
        "      return x"
      ],
      "metadata": {
        "id": "SjP3zF_Qm-ff"
      },
      "execution_count": 20,
      "outputs": []
    },
    {
      "cell_type": "code",
      "source": [
        "net = SimpleModel()\n",
        "net"
      ],
      "metadata": {
        "colab": {
          "base_uri": "https://localhost:8080/"
        },
        "id": "DHcPO7nroeAS",
        "outputId": "408ea823-1640-4188-9146-e5827704da71"
      },
      "execution_count": 21,
      "outputs": [
        {
          "output_type": "execute_result",
          "data": {
            "text/plain": [
              "SimpleModel(\n",
              "  (layer1): Linear(in_features=10, out_features=5, bias=True)\n",
              "  (relu): ReLU()\n",
              "  (layer2): Linear(in_features=5, out_features=1, bias=True)\n",
              ")"
            ]
          },
          "metadata": {},
          "execution_count": 21
        }
      ]
    },
    {
      "cell_type": "code",
      "source": [
        "input = torch.randn(1, 10)\n",
        "output = net(input)\n",
        "output"
      ],
      "metadata": {
        "colab": {
          "base_uri": "https://localhost:8080/"
        },
        "id": "UEHBPQMxoiMe",
        "outputId": "4541973e-2e65-4f8a-cf00-f5473df90aea"
      },
      "execution_count": 22,
      "outputs": [
        {
          "output_type": "execute_result",
          "data": {
            "text/plain": [
              "tensor([[0.2079]], grad_fn=<AddmmBackward0>)"
            ]
          },
          "metadata": {},
          "execution_count": 22
        }
      ]
    },
    {
      "cell_type": "code",
      "source": [
        "print(net.layer1.weight,net.layer1.bias,net.layer2.weight,net.layer2.bias,sep = '\\n')"
      ],
      "metadata": {
        "colab": {
          "base_uri": "https://localhost:8080/"
        },
        "id": "ZGZ8hqhno3EY",
        "outputId": "105e191a-3536-4c33-c822-70abd94b9de2"
      },
      "execution_count": 23,
      "outputs": [
        {
          "output_type": "stream",
          "name": "stdout",
          "text": [
            "Parameter containing:\n",
            "tensor([[ 0.0404, -0.1469, -0.1907,  0.2462, -0.1225, -0.0082, -0.2962,  0.0434,\n",
            "          0.2343,  0.2650],\n",
            "        [-0.1706, -0.1443,  0.0590,  0.3043,  0.1936, -0.0537, -0.0600,  0.1998,\n",
            "         -0.2567,  0.2654],\n",
            "        [ 0.0217,  0.2638,  0.0696,  0.0583,  0.0917,  0.3058, -0.2155, -0.0714,\n",
            "          0.0670, -0.2030],\n",
            "        [-0.0737, -0.2822, -0.0912, -0.1067, -0.1922,  0.1683,  0.2746, -0.0882,\n",
            "          0.2765, -0.0686],\n",
            "        [ 0.1554,  0.1208, -0.1909,  0.0490,  0.2657, -0.2497,  0.0523,  0.0569,\n",
            "         -0.2242,  0.2096]], requires_grad=True)\n",
            "Parameter containing:\n",
            "tensor([-0.2254, -0.1272, -0.2755, -0.2292, -0.2729], requires_grad=True)\n",
            "Parameter containing:\n",
            "tensor([[ 0.1593,  0.2306,  0.0015, -0.1022,  0.1514]], requires_grad=True)\n",
            "Parameter containing:\n",
            "tensor([0.1279], requires_grad=True)\n"
          ]
        }
      ]
    },
    {
      "cell_type": "code",
      "source": [
        "for e in net.parameters():\n",
        "  print(e)"
      ],
      "metadata": {
        "colab": {
          "base_uri": "https://localhost:8080/"
        },
        "id": "bLmMyohMpsFI",
        "outputId": "268d6aec-5a17-469e-f1c6-1186ecb706e5"
      },
      "execution_count": 24,
      "outputs": [
        {
          "output_type": "stream",
          "name": "stdout",
          "text": [
            "Parameter containing:\n",
            "tensor([[ 0.0404, -0.1469, -0.1907,  0.2462, -0.1225, -0.0082, -0.2962,  0.0434,\n",
            "          0.2343,  0.2650],\n",
            "        [-0.1706, -0.1443,  0.0590,  0.3043,  0.1936, -0.0537, -0.0600,  0.1998,\n",
            "         -0.2567,  0.2654],\n",
            "        [ 0.0217,  0.2638,  0.0696,  0.0583,  0.0917,  0.3058, -0.2155, -0.0714,\n",
            "          0.0670, -0.2030],\n",
            "        [-0.0737, -0.2822, -0.0912, -0.1067, -0.1922,  0.1683,  0.2746, -0.0882,\n",
            "          0.2765, -0.0686],\n",
            "        [ 0.1554,  0.1208, -0.1909,  0.0490,  0.2657, -0.2497,  0.0523,  0.0569,\n",
            "         -0.2242,  0.2096]], requires_grad=True)\n",
            "Parameter containing:\n",
            "tensor([-0.2254, -0.1272, -0.2755, -0.2292, -0.2729], requires_grad=True)\n",
            "Parameter containing:\n",
            "tensor([[ 0.1593,  0.2306,  0.0015, -0.1022,  0.1514]], requires_grad=True)\n",
            "Parameter containing:\n",
            "tensor([0.1279], requires_grad=True)\n"
          ]
        }
      ]
    },
    {
      "cell_type": "code",
      "source": [
        "for e in net.parameters():\n",
        "  print(e.shape)"
      ],
      "metadata": {
        "colab": {
          "base_uri": "https://localhost:8080/"
        },
        "id": "zAZZl266p4cd",
        "outputId": "d40d5d12-6751-48c6-e148-3739f991af63"
      },
      "execution_count": 25,
      "outputs": [
        {
          "output_type": "stream",
          "name": "stdout",
          "text": [
            "torch.Size([5, 10])\n",
            "torch.Size([5])\n",
            "torch.Size([1, 5])\n",
            "torch.Size([1])\n"
          ]
        }
      ]
    },
    {
      "cell_type": "markdown",
      "source": [
        "### nn.Sequential"
      ],
      "metadata": {
        "id": "wdIy0GHVp9qL"
      }
    },
    {
      "cell_type": "code",
      "source": [
        "# Sequence matters\n",
        "model = nn.Sequential(\n",
        "    nn.Linear(10,5),\n",
        "    nn.ReLU(),\n",
        "    nn.Linear(5,1)\n",
        "    )\n",
        "\n",
        "print(model)"
      ],
      "metadata": {
        "colab": {
          "base_uri": "https://localhost:8080/"
        },
        "id": "5o5iKLubqJPU",
        "outputId": "f6d96580-d2b6-4da5-c7dd-801ea635714c"
      },
      "execution_count": 26,
      "outputs": [
        {
          "output_type": "stream",
          "name": "stdout",
          "text": [
            "Sequential(\n",
            "  (0): Linear(in_features=10, out_features=5, bias=True)\n",
            "  (1): ReLU()\n",
            "  (2): Linear(in_features=5, out_features=1, bias=True)\n",
            ")\n"
          ]
        }
      ]
    },
    {
      "cell_type": "code",
      "source": [
        "input = torch.randn(1,10) #randn for 10 standard distribution around 1\n",
        "model(input)"
      ],
      "metadata": {
        "colab": {
          "base_uri": "https://localhost:8080/"
        },
        "id": "kgtv8mAIqqHW",
        "outputId": "4fbe1259-269e-475e-a278-98b860a59bc7"
      },
      "execution_count": 27,
      "outputs": [
        {
          "output_type": "execute_result",
          "data": {
            "text/plain": [
              "tensor([[-0.6841]], grad_fn=<AddmmBackward0>)"
            ]
          },
          "metadata": {},
          "execution_count": 27
        }
      ]
    },
    {
      "cell_type": "markdown",
      "source": [
        "layers accessed using indices"
      ],
      "metadata": {
        "id": "lS2Xhnvfq8P3"
      }
    },
    {
      "cell_type": "code",
      "source": [
        "model[0].weight, model[2].bias"
      ],
      "metadata": {
        "colab": {
          "base_uri": "https://localhost:8080/"
        },
        "id": "IlnkPg-frI-2",
        "outputId": "3a0f7e1c-8abf-4895-af9e-01e3e521cabd"
      },
      "execution_count": 28,
      "outputs": [
        {
          "output_type": "execute_result",
          "data": {
            "text/plain": [
              "(Parameter containing:\n",
              " tensor([[-0.1928,  0.0636,  0.1670, -0.0565,  0.3063,  0.1361, -0.2663, -0.0919,\n",
              "           0.1116,  0.2846],\n",
              "         [-0.2812,  0.2558,  0.2144, -0.0676,  0.1437, -0.0112, -0.2885,  0.1146,\n",
              "          -0.1487, -0.0011],\n",
              "         [-0.2972, -0.1650,  0.1825,  0.1136,  0.0884,  0.1065,  0.0764,  0.0604,\n",
              "          -0.1824, -0.2008],\n",
              "         [ 0.1093, -0.2725, -0.0992,  0.1228, -0.3006, -0.0228, -0.2733, -0.2773,\n",
              "           0.0187, -0.0926],\n",
              "         [-0.1135, -0.2175, -0.0165,  0.2730,  0.2345, -0.1678,  0.3027, -0.1267,\n",
              "          -0.1576,  0.0154]], requires_grad=True),\n",
              " Parameter containing:\n",
              " tensor([-0.2471], requires_grad=True))"
            ]
          },
          "metadata": {},
          "execution_count": 28
        }
      ]
    },
    {
      "cell_type": "markdown",
      "source": [
        "## Training\n",
        "Predict $ y_pred $ compute $loss$ run optimizer update $weights$\n",
        "\n",
        "To optimize use ```loss.backward()```\n",
        "- loss\n",
        "- optimizer\n",
        "- Training loop"
      ],
      "metadata": {
        "id": "fx8Aty6srQjb"
      }
    },
    {
      "cell_type": "markdown",
      "source": [
        "### Optimization"
      ],
      "metadata": {
        "id": "6Wep6Qvyrg11"
      }
    },
    {
      "cell_type": "code",
      "source": [
        "class SimpleModel(nn.Module):\n",
        "  def __init__(self):\n",
        "    super(SimpleModel,self).__init__()\n",
        "    self.layer1 = nn.Linear(10,5)\n",
        "    self.relu = nn.ReLU()\n",
        "    self.layer2 = nn.Linear(5,1)\n",
        "\n",
        "  def forward(self, x):\n",
        "      # sequence matters\n",
        "      x = self.layer1(x)\n",
        "      x = self.relu(x)\n",
        "      x = self.layer2(x)\n",
        "      return x\n",
        "\n",
        "net = SimpleModel()\n",
        "\n",
        "inputs = torch.randn(100, 10)\n",
        "targets = torch.randn(100, 1)\n",
        "\n",
        "criterion = nn.MSELoss()\n",
        "optimizer = optim.SGD(net.parameters(), lr = 0.01)\n",
        "\n",
        "for epoch in range(1000):\n",
        "  optimizer.zero_grad() # 1. gradients are not accumulated now\n",
        "\n",
        "  # 2. forward pass\n",
        "  outputs = net(inputs)\n",
        "\n",
        "  # 3. loss computation\n",
        "  loss = criterion(outputs, targets)\n",
        "\n",
        "  # 4. backpropagation\n",
        "  loss.backward()\n",
        "\n",
        "  # 5. update the parameters\n",
        "  optimizer.step()\n",
        "\n",
        "  if epoch % 100 == 0:\n",
        "    print(f\"Epoch: {epoch}, Loss: {loss.item()}\")"
      ],
      "metadata": {
        "colab": {
          "base_uri": "https://localhost:8080/"
        },
        "id": "wbmmTL7ks-Q9",
        "outputId": "b7082691-2d25-4be6-8656-2d602477ba93"
      },
      "execution_count": 29,
      "outputs": [
        {
          "output_type": "stream",
          "name": "stdout",
          "text": [
            "Epoch: 0, Loss: 1.2149443626403809\n",
            "Epoch: 100, Loss: 1.0213541984558105\n",
            "Epoch: 200, Loss: 0.9979915022850037\n",
            "Epoch: 300, Loss: 0.9739821553230286\n",
            "Epoch: 400, Loss: 0.9482506513595581\n",
            "Epoch: 500, Loss: 0.9304660558700562\n",
            "Epoch: 600, Loss: 0.9093186855316162\n",
            "Epoch: 700, Loss: 0.8794713020324707\n",
            "Epoch: 800, Loss: 0.853132426738739\n",
            "Epoch: 900, Loss: 0.8286287784576416\n"
          ]
        }
      ]
    },
    {
      "cell_type": "code",
      "source": [
        "torch.save(net, 'model.pt')"
      ],
      "metadata": {
        "id": "OOT6UOMjvl4T"
      },
      "execution_count": 30,
      "outputs": []
    },
    {
      "cell_type": "markdown",
      "source": [
        "## ANN Full Example"
      ],
      "metadata": {
        "id": "jX8dNWm4wCRY"
      }
    },
    {
      "cell_type": "code",
      "source": [
        "import numpy as np\n",
        "X = np.random.rand(100, 1)*10\n",
        "true_w = 3\n",
        "true_b = 2\n",
        "y = true_w*X + true_b + np.random.randn(100, 1)*0.2\n"
      ],
      "metadata": {
        "id": "5xrtSvqOw6Ft"
      },
      "execution_count": 31,
      "outputs": []
    },
    {
      "cell_type": "code",
      "source": [
        "from sklearn.model_selection import train_test_split\n",
        "xtrain, xtest, ytrain, ytest = train_test_split(X,y, test_size = 0.2,random_state= 24)"
      ],
      "metadata": {
        "id": "SugklU66xnTj"
      },
      "execution_count": 32,
      "outputs": []
    },
    {
      "cell_type": "code",
      "source": [
        "xtraint = torch.tensor(xtrain,dtype = torch.float32)\n",
        "xtestt = torch.tensor(xtest,dtype = torch.float32)\n",
        "ytraint = torch.tensor(ytrain,dtype = torch.float32)\n",
        "ytestt = torch.tensor(ytest,dtype = torch.float32)\n"
      ],
      "metadata": {
        "id": "cNZgKB68yDht"
      },
      "execution_count": 33,
      "outputs": []
    },
    {
      "cell_type": "code",
      "source": [
        "class LinReg(nn.Module):\n",
        "  def __init__(self):\n",
        "    super(LinReg, self).__init__()\n",
        "    self.linear = nn.Linear(1,1)\n",
        "\n",
        "  def forward(self, x):\n",
        "      return self.linear(x)\n",
        "\n",
        "model = LinReg()"
      ],
      "metadata": {
        "id": "Wsfo6edYyZDb"
      },
      "execution_count": 34,
      "outputs": []
    },
    {
      "cell_type": "code",
      "source": [
        "model.linear.weight.item()"
      ],
      "metadata": {
        "colab": {
          "base_uri": "https://localhost:8080/"
        },
        "id": "7WnAGlVhzJqe",
        "outputId": "aa0583dd-4aa7-4490-c3a6-1abbb2a55c57"
      },
      "execution_count": 35,
      "outputs": [
        {
          "output_type": "execute_result",
          "data": {
            "text/plain": [
              "-0.6927599906921387"
            ]
          },
          "metadata": {},
          "execution_count": 35
        }
      ]
    },
    {
      "cell_type": "code",
      "source": [
        "model.linear.bias.item()"
      ],
      "metadata": {
        "colab": {
          "base_uri": "https://localhost:8080/"
        },
        "id": "2KgmKVc1zNiq",
        "outputId": "0d2d474e-f2e5-405f-95cb-43eaf3ee19be"
      },
      "execution_count": 36,
      "outputs": [
        {
          "output_type": "execute_result",
          "data": {
            "text/plain": [
              "-0.8608417510986328"
            ]
          },
          "metadata": {},
          "execution_count": 36
        }
      ]
    },
    {
      "cell_type": "code",
      "source": [
        "# Training group\n",
        "critierion = nn.MSELoss()\n",
        "optimizer = optim.SGD(model.parameters(), lr = 0.01)\n",
        "\n",
        "for epoch in range(1000):\n",
        "  optimizer.zero_grad()\n",
        "  outputs = model(xtraint)\n",
        "  loss = critierion(outputs, ytraint)\n",
        "  loss.backward()\n",
        "  optimizer.step()\n",
        "\n",
        "  if (epoch+1) %100 ==0:\n",
        "    print(f\"Epoch: {epoch}, Loss: {loss.item()}, Weight: {model.linear.weight.item()}, Bias:{model.linear.bias.item()} \")\n"
      ],
      "metadata": {
        "colab": {
          "base_uri": "https://localhost:8080/"
        },
        "id": "2PX6eY6YzRLL",
        "outputId": "1d5c01a9-9552-418b-e910-a45714764938"
      },
      "execution_count": 37,
      "outputs": [
        {
          "output_type": "stream",
          "name": "stdout",
          "text": [
            "Epoch: 99, Loss: 0.5111268758773804, Weight: 3.2122929096221924, Bias:0.6227613687515259 \n",
            "Epoch: 199, Loss: 0.22217229008674622, Weight: 3.130216121673584, Bias:1.1468133926391602 \n",
            "Epoch: 299, Loss: 0.11262612044811249, Weight: 3.0796797275543213, Bias:1.4694833755493164 \n",
            "Epoch: 399, Loss: 0.07109572738409042, Weight: 3.0485634803771973, Bias:1.6681581735610962 \n",
            "Epoch: 499, Loss: 0.055351197719573975, Weight: 3.029404640197754, Bias:1.7904857397079468 \n",
            "Epoch: 599, Loss: 0.049382131546735764, Weight: 3.0176079273223877, Bias:1.865805983543396 \n",
            "Epoch: 699, Loss: 0.04711917042732239, Weight: 3.0103445053100586, Bias:1.9121824502944946 \n",
            "Epoch: 799, Loss: 0.046261269599199295, Weight: 3.0058722496032715, Bias:1.940737247467041 \n",
            "Epoch: 899, Loss: 0.04593605548143387, Weight: 3.0031187534332275, Bias:1.958318829536438 \n",
            "Epoch: 999, Loss: 0.04581274837255478, Weight: 3.0014233589172363, Bias:1.9691439867019653 \n"
          ]
        }
      ]
    },
    {
      "cell_type": "code",
      "source": [
        "with torch.no_grad(): # does not calculate gradients when not required\n",
        "  preds = model(xtestt)\n",
        "  test_loss = criterion(preds, ytestt)\n",
        "\n",
        "print(test_loss)"
      ],
      "metadata": {
        "colab": {
          "base_uri": "https://localhost:8080/"
        },
        "id": "yGZQihf00emh",
        "outputId": "f6904576-d0d4-4879-d606-d6eb792636e4"
      },
      "execution_count": 38,
      "outputs": [
        {
          "output_type": "stream",
          "name": "stdout",
          "text": [
            "tensor(0.0323)\n"
          ]
        }
      ]
    },
    {
      "cell_type": "code",
      "source": [
        "print(model.linear.weight.item())\n",
        "print(model.linear.bias.item())"
      ],
      "metadata": {
        "colab": {
          "base_uri": "https://localhost:8080/"
        },
        "id": "ZRV_rUEy1ryq",
        "outputId": "37b4cf12-bfdd-4449-be6d-4690dd78bae7"
      },
      "execution_count": 39,
      "outputs": [
        {
          "output_type": "stream",
          "name": "stdout",
          "text": [
            "3.0014233589172363\n",
            "1.9691439867019653\n"
          ]
        }
      ]
    },
    {
      "cell_type": "markdown",
      "source": [
        "## Assignment - Real World data ANN using California Housing Data"
      ],
      "metadata": {
        "id": "Uxlb7a7f2CVm"
      }
    },
    {
      "cell_type": "code",
      "source": [
        "from sklearn.datasets import fetch_california_housing\n",
        "data = fetch_california_housing()\n",
        "type(data.data),type(data.target)"
      ],
      "metadata": {
        "colab": {
          "base_uri": "https://localhost:8080/"
        },
        "id": "r736Snoy2Q_p",
        "outputId": "1ca6350c-f928-43f7-86f4-d9596706c4bb"
      },
      "execution_count": 151,
      "outputs": [
        {
          "output_type": "execute_result",
          "data": {
            "text/plain": [
              "(numpy.ndarray, numpy.ndarray)"
            ]
          },
          "metadata": {},
          "execution_count": 151
        }
      ]
    },
    {
      "cell_type": "code",
      "source": [
        "from sklearn.model_selection import train_test_split\n",
        "xtrain, xtest, ytrain, ytest = train_test_split(data.data,data.target,random_state=42, test_size = 0.25)\n",
        "for i in [xtrain, xtest, ytrain, ytest]:\n",
        "  print(f\"{i.shape}\")"
      ],
      "metadata": {
        "colab": {
          "base_uri": "https://localhost:8080/"
        },
        "id": "9mnnHJTU2kOn",
        "outputId": "9ff022b4-d053-40c8-dda7-acd4308bd78c"
      },
      "execution_count": 153,
      "outputs": [
        {
          "output_type": "stream",
          "name": "stdout",
          "text": [
            "(15480, 8)\n",
            "(5160, 8)\n",
            "(15480,)\n",
            "(5160,)\n"
          ]
        }
      ]
    },
    {
      "cell_type": "code",
      "source": [
        "import pandas as pd\n",
        "pd.set_option('display.float_format', lambda x: '%.6f' % x)\n",
        "pd.DataFrame(xtrain).describe()"
      ],
      "metadata": {
        "colab": {
          "base_uri": "https://localhost:8080/",
          "height": 300
        },
        "id": "IuIimqN2Tien",
        "outputId": "26f9f9df-9bb1-4054-9da5-b8c4d11eb881"
      },
      "execution_count": 154,
      "outputs": [
        {
          "output_type": "execute_result",
          "data": {
            "text/plain": [
              "                 0            1            2            3            4  \\\n",
              "count 15480.000000 15480.000000 15480.000000 15480.000000 15480.000000   \n",
              "mean      3.878314    28.595995     5.435598     1.096881  1427.497287   \n",
              "std       1.903788    12.611330     2.421650     0.438804  1142.930862   \n",
              "min       0.499900     1.000000     0.888889     0.333333     3.000000   \n",
              "25%       2.566925    18.000000     4.450000     1.006593   788.750000   \n",
              "50%       3.543900    29.000000     5.232331     1.049346  1167.000000   \n",
              "75%       4.762500    37.000000     6.058141     1.100143  1727.000000   \n",
              "max      15.000100    52.000000   141.909091    25.636364 35682.000000   \n",
              "\n",
              "                 5            6            7  \n",
              "count 15480.000000 15480.000000 15480.000000  \n",
              "mean      3.106660    35.646720  -119.583736  \n",
              "std      11.955834     2.133950     2.002442  \n",
              "min       0.692308    32.550000  -124.350000  \n",
              "25%       2.430205    33.940000  -121.800000  \n",
              "50%       2.817672    34.270000  -118.510000  \n",
              "75%       3.280020    37.720000  -118.010000  \n",
              "max    1243.333333    41.950000  -114.310000  "
            ],
            "text/html": [
              "\n",
              "  <div id=\"df-df09295e-11cc-44f0-8c33-31a648c679c1\" class=\"colab-df-container\">\n",
              "    <div>\n",
              "<style scoped>\n",
              "    .dataframe tbody tr th:only-of-type {\n",
              "        vertical-align: middle;\n",
              "    }\n",
              "\n",
              "    .dataframe tbody tr th {\n",
              "        vertical-align: top;\n",
              "    }\n",
              "\n",
              "    .dataframe thead th {\n",
              "        text-align: right;\n",
              "    }\n",
              "</style>\n",
              "<table border=\"1\" class=\"dataframe\">\n",
              "  <thead>\n",
              "    <tr style=\"text-align: right;\">\n",
              "      <th></th>\n",
              "      <th>0</th>\n",
              "      <th>1</th>\n",
              "      <th>2</th>\n",
              "      <th>3</th>\n",
              "      <th>4</th>\n",
              "      <th>5</th>\n",
              "      <th>6</th>\n",
              "      <th>7</th>\n",
              "    </tr>\n",
              "  </thead>\n",
              "  <tbody>\n",
              "    <tr>\n",
              "      <th>count</th>\n",
              "      <td>15480.000000</td>\n",
              "      <td>15480.000000</td>\n",
              "      <td>15480.000000</td>\n",
              "      <td>15480.000000</td>\n",
              "      <td>15480.000000</td>\n",
              "      <td>15480.000000</td>\n",
              "      <td>15480.000000</td>\n",
              "      <td>15480.000000</td>\n",
              "    </tr>\n",
              "    <tr>\n",
              "      <th>mean</th>\n",
              "      <td>3.878314</td>\n",
              "      <td>28.595995</td>\n",
              "      <td>5.435598</td>\n",
              "      <td>1.096881</td>\n",
              "      <td>1427.497287</td>\n",
              "      <td>3.106660</td>\n",
              "      <td>35.646720</td>\n",
              "      <td>-119.583736</td>\n",
              "    </tr>\n",
              "    <tr>\n",
              "      <th>std</th>\n",
              "      <td>1.903788</td>\n",
              "      <td>12.611330</td>\n",
              "      <td>2.421650</td>\n",
              "      <td>0.438804</td>\n",
              "      <td>1142.930862</td>\n",
              "      <td>11.955834</td>\n",
              "      <td>2.133950</td>\n",
              "      <td>2.002442</td>\n",
              "    </tr>\n",
              "    <tr>\n",
              "      <th>min</th>\n",
              "      <td>0.499900</td>\n",
              "      <td>1.000000</td>\n",
              "      <td>0.888889</td>\n",
              "      <td>0.333333</td>\n",
              "      <td>3.000000</td>\n",
              "      <td>0.692308</td>\n",
              "      <td>32.550000</td>\n",
              "      <td>-124.350000</td>\n",
              "    </tr>\n",
              "    <tr>\n",
              "      <th>25%</th>\n",
              "      <td>2.566925</td>\n",
              "      <td>18.000000</td>\n",
              "      <td>4.450000</td>\n",
              "      <td>1.006593</td>\n",
              "      <td>788.750000</td>\n",
              "      <td>2.430205</td>\n",
              "      <td>33.940000</td>\n",
              "      <td>-121.800000</td>\n",
              "    </tr>\n",
              "    <tr>\n",
              "      <th>50%</th>\n",
              "      <td>3.543900</td>\n",
              "      <td>29.000000</td>\n",
              "      <td>5.232331</td>\n",
              "      <td>1.049346</td>\n",
              "      <td>1167.000000</td>\n",
              "      <td>2.817672</td>\n",
              "      <td>34.270000</td>\n",
              "      <td>-118.510000</td>\n",
              "    </tr>\n",
              "    <tr>\n",
              "      <th>75%</th>\n",
              "      <td>4.762500</td>\n",
              "      <td>37.000000</td>\n",
              "      <td>6.058141</td>\n",
              "      <td>1.100143</td>\n",
              "      <td>1727.000000</td>\n",
              "      <td>3.280020</td>\n",
              "      <td>37.720000</td>\n",
              "      <td>-118.010000</td>\n",
              "    </tr>\n",
              "    <tr>\n",
              "      <th>max</th>\n",
              "      <td>15.000100</td>\n",
              "      <td>52.000000</td>\n",
              "      <td>141.909091</td>\n",
              "      <td>25.636364</td>\n",
              "      <td>35682.000000</td>\n",
              "      <td>1243.333333</td>\n",
              "      <td>41.950000</td>\n",
              "      <td>-114.310000</td>\n",
              "    </tr>\n",
              "  </tbody>\n",
              "</table>\n",
              "</div>\n",
              "    <div class=\"colab-df-buttons\">\n",
              "\n",
              "  <div class=\"colab-df-container\">\n",
              "    <button class=\"colab-df-convert\" onclick=\"convertToInteractive('df-df09295e-11cc-44f0-8c33-31a648c679c1')\"\n",
              "            title=\"Convert this dataframe to an interactive table.\"\n",
              "            style=\"display:none;\">\n",
              "\n",
              "  <svg xmlns=\"http://www.w3.org/2000/svg\" height=\"24px\" viewBox=\"0 -960 960 960\">\n",
              "    <path d=\"M120-120v-720h720v720H120Zm60-500h600v-160H180v160Zm220 220h160v-160H400v160Zm0 220h160v-160H400v160ZM180-400h160v-160H180v160Zm440 0h160v-160H620v160ZM180-180h160v-160H180v160Zm440 0h160v-160H620v160Z\"/>\n",
              "  </svg>\n",
              "    </button>\n",
              "\n",
              "  <style>\n",
              "    .colab-df-container {\n",
              "      display:flex;\n",
              "      gap: 12px;\n",
              "    }\n",
              "\n",
              "    .colab-df-convert {\n",
              "      background-color: #E8F0FE;\n",
              "      border: none;\n",
              "      border-radius: 50%;\n",
              "      cursor: pointer;\n",
              "      display: none;\n",
              "      fill: #1967D2;\n",
              "      height: 32px;\n",
              "      padding: 0 0 0 0;\n",
              "      width: 32px;\n",
              "    }\n",
              "\n",
              "    .colab-df-convert:hover {\n",
              "      background-color: #E2EBFA;\n",
              "      box-shadow: 0px 1px 2px rgba(60, 64, 67, 0.3), 0px 1px 3px 1px rgba(60, 64, 67, 0.15);\n",
              "      fill: #174EA6;\n",
              "    }\n",
              "\n",
              "    .colab-df-buttons div {\n",
              "      margin-bottom: 4px;\n",
              "    }\n",
              "\n",
              "    [theme=dark] .colab-df-convert {\n",
              "      background-color: #3B4455;\n",
              "      fill: #D2E3FC;\n",
              "    }\n",
              "\n",
              "    [theme=dark] .colab-df-convert:hover {\n",
              "      background-color: #434B5C;\n",
              "      box-shadow: 0px 1px 3px 1px rgba(0, 0, 0, 0.15);\n",
              "      filter: drop-shadow(0px 1px 2px rgba(0, 0, 0, 0.3));\n",
              "      fill: #FFFFFF;\n",
              "    }\n",
              "  </style>\n",
              "\n",
              "    <script>\n",
              "      const buttonEl =\n",
              "        document.querySelector('#df-df09295e-11cc-44f0-8c33-31a648c679c1 button.colab-df-convert');\n",
              "      buttonEl.style.display =\n",
              "        google.colab.kernel.accessAllowed ? 'block' : 'none';\n",
              "\n",
              "      async function convertToInteractive(key) {\n",
              "        const element = document.querySelector('#df-df09295e-11cc-44f0-8c33-31a648c679c1');\n",
              "        const dataTable =\n",
              "          await google.colab.kernel.invokeFunction('convertToInteractive',\n",
              "                                                    [key], {});\n",
              "        if (!dataTable) return;\n",
              "\n",
              "        const docLinkHtml = 'Like what you see? Visit the ' +\n",
              "          '<a target=\"_blank\" href=https://colab.research.google.com/notebooks/data_table.ipynb>data table notebook</a>'\n",
              "          + ' to learn more about interactive tables.';\n",
              "        element.innerHTML = '';\n",
              "        dataTable['output_type'] = 'display_data';\n",
              "        await google.colab.output.renderOutput(dataTable, element);\n",
              "        const docLink = document.createElement('div');\n",
              "        docLink.innerHTML = docLinkHtml;\n",
              "        element.appendChild(docLink);\n",
              "      }\n",
              "    </script>\n",
              "  </div>\n",
              "\n",
              "\n",
              "<div id=\"df-b30d5c8e-059e-4f79-bf41-cb46947bea23\">\n",
              "  <button class=\"colab-df-quickchart\" onclick=\"quickchart('df-b30d5c8e-059e-4f79-bf41-cb46947bea23')\"\n",
              "            title=\"Suggest charts\"\n",
              "            style=\"display:none;\">\n",
              "\n",
              "<svg xmlns=\"http://www.w3.org/2000/svg\" height=\"24px\"viewBox=\"0 0 24 24\"\n",
              "     width=\"24px\">\n",
              "    <g>\n",
              "        <path d=\"M19 3H5c-1.1 0-2 .9-2 2v14c0 1.1.9 2 2 2h14c1.1 0 2-.9 2-2V5c0-1.1-.9-2-2-2zM9 17H7v-7h2v7zm4 0h-2V7h2v10zm4 0h-2v-4h2v4z\"/>\n",
              "    </g>\n",
              "</svg>\n",
              "  </button>\n",
              "\n",
              "<style>\n",
              "  .colab-df-quickchart {\n",
              "      --bg-color: #E8F0FE;\n",
              "      --fill-color: #1967D2;\n",
              "      --hover-bg-color: #E2EBFA;\n",
              "      --hover-fill-color: #174EA6;\n",
              "      --disabled-fill-color: #AAA;\n",
              "      --disabled-bg-color: #DDD;\n",
              "  }\n",
              "\n",
              "  [theme=dark] .colab-df-quickchart {\n",
              "      --bg-color: #3B4455;\n",
              "      --fill-color: #D2E3FC;\n",
              "      --hover-bg-color: #434B5C;\n",
              "      --hover-fill-color: #FFFFFF;\n",
              "      --disabled-bg-color: #3B4455;\n",
              "      --disabled-fill-color: #666;\n",
              "  }\n",
              "\n",
              "  .colab-df-quickchart {\n",
              "    background-color: var(--bg-color);\n",
              "    border: none;\n",
              "    border-radius: 50%;\n",
              "    cursor: pointer;\n",
              "    display: none;\n",
              "    fill: var(--fill-color);\n",
              "    height: 32px;\n",
              "    padding: 0;\n",
              "    width: 32px;\n",
              "  }\n",
              "\n",
              "  .colab-df-quickchart:hover {\n",
              "    background-color: var(--hover-bg-color);\n",
              "    box-shadow: 0 1px 2px rgba(60, 64, 67, 0.3), 0 1px 3px 1px rgba(60, 64, 67, 0.15);\n",
              "    fill: var(--button-hover-fill-color);\n",
              "  }\n",
              "\n",
              "  .colab-df-quickchart-complete:disabled,\n",
              "  .colab-df-quickchart-complete:disabled:hover {\n",
              "    background-color: var(--disabled-bg-color);\n",
              "    fill: var(--disabled-fill-color);\n",
              "    box-shadow: none;\n",
              "  }\n",
              "\n",
              "  .colab-df-spinner {\n",
              "    border: 2px solid var(--fill-color);\n",
              "    border-color: transparent;\n",
              "    border-bottom-color: var(--fill-color);\n",
              "    animation:\n",
              "      spin 1s steps(1) infinite;\n",
              "  }\n",
              "\n",
              "  @keyframes spin {\n",
              "    0% {\n",
              "      border-color: transparent;\n",
              "      border-bottom-color: var(--fill-color);\n",
              "      border-left-color: var(--fill-color);\n",
              "    }\n",
              "    20% {\n",
              "      border-color: transparent;\n",
              "      border-left-color: var(--fill-color);\n",
              "      border-top-color: var(--fill-color);\n",
              "    }\n",
              "    30% {\n",
              "      border-color: transparent;\n",
              "      border-left-color: var(--fill-color);\n",
              "      border-top-color: var(--fill-color);\n",
              "      border-right-color: var(--fill-color);\n",
              "    }\n",
              "    40% {\n",
              "      border-color: transparent;\n",
              "      border-right-color: var(--fill-color);\n",
              "      border-top-color: var(--fill-color);\n",
              "    }\n",
              "    60% {\n",
              "      border-color: transparent;\n",
              "      border-right-color: var(--fill-color);\n",
              "    }\n",
              "    80% {\n",
              "      border-color: transparent;\n",
              "      border-right-color: var(--fill-color);\n",
              "      border-bottom-color: var(--fill-color);\n",
              "    }\n",
              "    90% {\n",
              "      border-color: transparent;\n",
              "      border-bottom-color: var(--fill-color);\n",
              "    }\n",
              "  }\n",
              "</style>\n",
              "\n",
              "  <script>\n",
              "    async function quickchart(key) {\n",
              "      const quickchartButtonEl =\n",
              "        document.querySelector('#' + key + ' button');\n",
              "      quickchartButtonEl.disabled = true;  // To prevent multiple clicks.\n",
              "      quickchartButtonEl.classList.add('colab-df-spinner');\n",
              "      try {\n",
              "        const charts = await google.colab.kernel.invokeFunction(\n",
              "            'suggestCharts', [key], {});\n",
              "      } catch (error) {\n",
              "        console.error('Error during call to suggestCharts:', error);\n",
              "      }\n",
              "      quickchartButtonEl.classList.remove('colab-df-spinner');\n",
              "      quickchartButtonEl.classList.add('colab-df-quickchart-complete');\n",
              "    }\n",
              "    (() => {\n",
              "      let quickchartButtonEl =\n",
              "        document.querySelector('#df-b30d5c8e-059e-4f79-bf41-cb46947bea23 button');\n",
              "      quickchartButtonEl.style.display =\n",
              "        google.colab.kernel.accessAllowed ? 'block' : 'none';\n",
              "    })();\n",
              "  </script>\n",
              "</div>\n",
              "\n",
              "    </div>\n",
              "  </div>\n"
            ],
            "application/vnd.google.colaboratory.intrinsic+json": {
              "type": "dataframe",
              "summary": "{\n  \"name\": \"pd\",\n  \"rows\": 8,\n  \"fields\": [\n    {\n      \"column\": 0,\n      \"properties\": {\n        \"dtype\": \"number\",\n        \"std\": 5471.384194133473,\n        \"min\": 0.4999,\n        \"max\": 15480.0,\n        \"num_unique_values\": 8,\n        \"samples\": [\n          3.878314121447028,\n          3.5439,\n          15480.0\n        ],\n        \"semantic_type\": \"\",\n        \"description\": \"\"\n      }\n    },\n    {\n      \"column\": 1,\n      \"properties\": {\n        \"dtype\": \"number\",\n        \"std\": 5464.027605294012,\n        \"min\": 1.0,\n        \"max\": 15480.0,\n        \"num_unique_values\": 8,\n        \"samples\": [\n          28.595994832041345,\n          29.0,\n          15480.0\n        ],\n        \"semantic_type\": \"\",\n        \"description\": \"\"\n      }\n    },\n    {\n      \"column\": 2,\n      \"properties\": {\n        \"dtype\": \"number\",\n        \"std\": 5464.815327809479,\n        \"min\": 0.8888888888888888,\n        \"max\": 15480.0,\n        \"num_unique_values\": 8,\n        \"samples\": [\n          5.43559839248348,\n          5.232331251299209,\n          15480.0\n        ],\n        \"semantic_type\": \"\",\n        \"description\": \"\"\n      }\n    },\n    {\n      \"column\": 3,\n      \"properties\": {\n        \"dtype\": \"number\",\n        \"std\": 5471.464738189676,\n        \"min\": 0.3333333333333333,\n        \"max\": 15480.0,\n        \"num_unique_values\": 8,\n        \"samples\": [\n          1.096881162519021,\n          1.0493463773069036,\n          15480.0\n        ],\n        \"semantic_type\": \"\",\n        \"description\": \"\"\n      }\n    },\n    {\n      \"column\": 4,\n      \"properties\": {\n        \"dtype\": \"number\",\n        \"std\": 12587.069438150273,\n        \"min\": 3.0,\n        \"max\": 35682.0,\n        \"num_unique_values\": 8,\n        \"samples\": [\n          1427.4972868217055,\n          1167.0,\n          15480.0\n        ],\n        \"semantic_type\": \"\",\n        \"description\": \"\"\n      }\n    },\n    {\n      \"column\": 5,\n      \"properties\": {\n        \"dtype\": \"number\",\n        \"std\": 5426.339533264779,\n        \"min\": 0.6923076923076923,\n        \"max\": 15480.0,\n        \"num_unique_values\": 8,\n        \"samples\": [\n          3.106659683279882,\n          2.817671687837434,\n          15480.0\n        ],\n        \"semantic_type\": \"\",\n        \"description\": \"\"\n      }\n    },\n    {\n      \"column\": 6,\n      \"properties\": {\n        \"dtype\": \"number\",\n        \"std\": 5461.998802444109,\n        \"min\": 2.1339495955233456,\n        \"max\": 15480.0,\n        \"num_unique_values\": 8,\n        \"samples\": [\n          35.64671963824289,\n          34.27,\n          15480.0\n        ],\n        \"semantic_type\": \"\",\n        \"description\": \"\"\n      }\n    },\n    {\n      \"column\": 7,\n      \"properties\": {\n        \"dtype\": \"number\",\n        \"std\": 5509.261911627371,\n        \"min\": -124.35,\n        \"max\": 15480.0,\n        \"num_unique_values\": 8,\n        \"samples\": [\n          -119.5837357881137,\n          -118.51,\n          15480.0\n        ],\n        \"semantic_type\": \"\",\n        \"description\": \"\"\n      }\n    }\n  ]\n}"
            }
          },
          "metadata": {},
          "execution_count": 154
        }
      ]
    },
    {
      "cell_type": "code",
      "source": [
        "from sklearn.preprocessing import StandardScaler, MinMaxScaler\n",
        "# ssx = StandardScaler()\n",
        "ssx = MinMaxScaler()\n",
        "xtrains = ssx.fit_transform(xtrain)\n",
        "pd.DataFrame(xtrains).describe()"
      ],
      "metadata": {
        "colab": {
          "base_uri": "https://localhost:8080/",
          "height": 300
        },
        "collapsed": true,
        "id": "66lCDBsOV88a",
        "outputId": "cddaae59-c634-4429-ada3-0fb61e5d5d35"
      },
      "execution_count": 158,
      "outputs": [
        {
          "output_type": "execute_result",
          "data": {
            "text/plain": [
              "                 0            1            2            3            4  \\\n",
              "count 15480.000000 15480.000000 15480.000000 15480.000000 15480.000000   \n",
              "mean      0.232991     0.541098     0.032242     0.030176     0.039925   \n",
              "std       0.131294     0.247281     0.017172     0.017342     0.032034   \n",
              "min       0.000000     0.000000     0.000000     0.000000     0.000000   \n",
              "25%       0.142551     0.333333     0.025252     0.026608     0.022023   \n",
              "50%       0.209928     0.549020     0.030800     0.028298     0.032624   \n",
              "75%       0.293968     0.705882     0.036656     0.030305     0.048320   \n",
              "max       1.000000     1.000000     1.000000     1.000000     1.000000   \n",
              "\n",
              "                 5            6            7  \n",
              "count 15480.000000 15480.000000 15480.000000  \n",
              "mean      0.001943     0.329438     0.474728  \n",
              "std       0.009621     0.227016     0.199446  \n",
              "min       0.000000     0.000000     0.000000  \n",
              "25%       0.001399     0.147872     0.253984  \n",
              "50%       0.001710     0.182979     0.581673  \n",
              "75%       0.002082     0.550000     0.631474  \n",
              "max       1.000000     1.000000     1.000000  "
            ],
            "text/html": [
              "\n",
              "  <div id=\"df-e9635969-c2cf-495c-b68e-bde084f23f99\" class=\"colab-df-container\">\n",
              "    <div>\n",
              "<style scoped>\n",
              "    .dataframe tbody tr th:only-of-type {\n",
              "        vertical-align: middle;\n",
              "    }\n",
              "\n",
              "    .dataframe tbody tr th {\n",
              "        vertical-align: top;\n",
              "    }\n",
              "\n",
              "    .dataframe thead th {\n",
              "        text-align: right;\n",
              "    }\n",
              "</style>\n",
              "<table border=\"1\" class=\"dataframe\">\n",
              "  <thead>\n",
              "    <tr style=\"text-align: right;\">\n",
              "      <th></th>\n",
              "      <th>0</th>\n",
              "      <th>1</th>\n",
              "      <th>2</th>\n",
              "      <th>3</th>\n",
              "      <th>4</th>\n",
              "      <th>5</th>\n",
              "      <th>6</th>\n",
              "      <th>7</th>\n",
              "    </tr>\n",
              "  </thead>\n",
              "  <tbody>\n",
              "    <tr>\n",
              "      <th>count</th>\n",
              "      <td>15480.000000</td>\n",
              "      <td>15480.000000</td>\n",
              "      <td>15480.000000</td>\n",
              "      <td>15480.000000</td>\n",
              "      <td>15480.000000</td>\n",
              "      <td>15480.000000</td>\n",
              "      <td>15480.000000</td>\n",
              "      <td>15480.000000</td>\n",
              "    </tr>\n",
              "    <tr>\n",
              "      <th>mean</th>\n",
              "      <td>0.232991</td>\n",
              "      <td>0.541098</td>\n",
              "      <td>0.032242</td>\n",
              "      <td>0.030176</td>\n",
              "      <td>0.039925</td>\n",
              "      <td>0.001943</td>\n",
              "      <td>0.329438</td>\n",
              "      <td>0.474728</td>\n",
              "    </tr>\n",
              "    <tr>\n",
              "      <th>std</th>\n",
              "      <td>0.131294</td>\n",
              "      <td>0.247281</td>\n",
              "      <td>0.017172</td>\n",
              "      <td>0.017342</td>\n",
              "      <td>0.032034</td>\n",
              "      <td>0.009621</td>\n",
              "      <td>0.227016</td>\n",
              "      <td>0.199446</td>\n",
              "    </tr>\n",
              "    <tr>\n",
              "      <th>min</th>\n",
              "      <td>0.000000</td>\n",
              "      <td>0.000000</td>\n",
              "      <td>0.000000</td>\n",
              "      <td>0.000000</td>\n",
              "      <td>0.000000</td>\n",
              "      <td>0.000000</td>\n",
              "      <td>0.000000</td>\n",
              "      <td>0.000000</td>\n",
              "    </tr>\n",
              "    <tr>\n",
              "      <th>25%</th>\n",
              "      <td>0.142551</td>\n",
              "      <td>0.333333</td>\n",
              "      <td>0.025252</td>\n",
              "      <td>0.026608</td>\n",
              "      <td>0.022023</td>\n",
              "      <td>0.001399</td>\n",
              "      <td>0.147872</td>\n",
              "      <td>0.253984</td>\n",
              "    </tr>\n",
              "    <tr>\n",
              "      <th>50%</th>\n",
              "      <td>0.209928</td>\n",
              "      <td>0.549020</td>\n",
              "      <td>0.030800</td>\n",
              "      <td>0.028298</td>\n",
              "      <td>0.032624</td>\n",
              "      <td>0.001710</td>\n",
              "      <td>0.182979</td>\n",
              "      <td>0.581673</td>\n",
              "    </tr>\n",
              "    <tr>\n",
              "      <th>75%</th>\n",
              "      <td>0.293968</td>\n",
              "      <td>0.705882</td>\n",
              "      <td>0.036656</td>\n",
              "      <td>0.030305</td>\n",
              "      <td>0.048320</td>\n",
              "      <td>0.002082</td>\n",
              "      <td>0.550000</td>\n",
              "      <td>0.631474</td>\n",
              "    </tr>\n",
              "    <tr>\n",
              "      <th>max</th>\n",
              "      <td>1.000000</td>\n",
              "      <td>1.000000</td>\n",
              "      <td>1.000000</td>\n",
              "      <td>1.000000</td>\n",
              "      <td>1.000000</td>\n",
              "      <td>1.000000</td>\n",
              "      <td>1.000000</td>\n",
              "      <td>1.000000</td>\n",
              "    </tr>\n",
              "  </tbody>\n",
              "</table>\n",
              "</div>\n",
              "    <div class=\"colab-df-buttons\">\n",
              "\n",
              "  <div class=\"colab-df-container\">\n",
              "    <button class=\"colab-df-convert\" onclick=\"convertToInteractive('df-e9635969-c2cf-495c-b68e-bde084f23f99')\"\n",
              "            title=\"Convert this dataframe to an interactive table.\"\n",
              "            style=\"display:none;\">\n",
              "\n",
              "  <svg xmlns=\"http://www.w3.org/2000/svg\" height=\"24px\" viewBox=\"0 -960 960 960\">\n",
              "    <path d=\"M120-120v-720h720v720H120Zm60-500h600v-160H180v160Zm220 220h160v-160H400v160Zm0 220h160v-160H400v160ZM180-400h160v-160H180v160Zm440 0h160v-160H620v160ZM180-180h160v-160H180v160Zm440 0h160v-160H620v160Z\"/>\n",
              "  </svg>\n",
              "    </button>\n",
              "\n",
              "  <style>\n",
              "    .colab-df-container {\n",
              "      display:flex;\n",
              "      gap: 12px;\n",
              "    }\n",
              "\n",
              "    .colab-df-convert {\n",
              "      background-color: #E8F0FE;\n",
              "      border: none;\n",
              "      border-radius: 50%;\n",
              "      cursor: pointer;\n",
              "      display: none;\n",
              "      fill: #1967D2;\n",
              "      height: 32px;\n",
              "      padding: 0 0 0 0;\n",
              "      width: 32px;\n",
              "    }\n",
              "\n",
              "    .colab-df-convert:hover {\n",
              "      background-color: #E2EBFA;\n",
              "      box-shadow: 0px 1px 2px rgba(60, 64, 67, 0.3), 0px 1px 3px 1px rgba(60, 64, 67, 0.15);\n",
              "      fill: #174EA6;\n",
              "    }\n",
              "\n",
              "    .colab-df-buttons div {\n",
              "      margin-bottom: 4px;\n",
              "    }\n",
              "\n",
              "    [theme=dark] .colab-df-convert {\n",
              "      background-color: #3B4455;\n",
              "      fill: #D2E3FC;\n",
              "    }\n",
              "\n",
              "    [theme=dark] .colab-df-convert:hover {\n",
              "      background-color: #434B5C;\n",
              "      box-shadow: 0px 1px 3px 1px rgba(0, 0, 0, 0.15);\n",
              "      filter: drop-shadow(0px 1px 2px rgba(0, 0, 0, 0.3));\n",
              "      fill: #FFFFFF;\n",
              "    }\n",
              "  </style>\n",
              "\n",
              "    <script>\n",
              "      const buttonEl =\n",
              "        document.querySelector('#df-e9635969-c2cf-495c-b68e-bde084f23f99 button.colab-df-convert');\n",
              "      buttonEl.style.display =\n",
              "        google.colab.kernel.accessAllowed ? 'block' : 'none';\n",
              "\n",
              "      async function convertToInteractive(key) {\n",
              "        const element = document.querySelector('#df-e9635969-c2cf-495c-b68e-bde084f23f99');\n",
              "        const dataTable =\n",
              "          await google.colab.kernel.invokeFunction('convertToInteractive',\n",
              "                                                    [key], {});\n",
              "        if (!dataTable) return;\n",
              "\n",
              "        const docLinkHtml = 'Like what you see? Visit the ' +\n",
              "          '<a target=\"_blank\" href=https://colab.research.google.com/notebooks/data_table.ipynb>data table notebook</a>'\n",
              "          + ' to learn more about interactive tables.';\n",
              "        element.innerHTML = '';\n",
              "        dataTable['output_type'] = 'display_data';\n",
              "        await google.colab.output.renderOutput(dataTable, element);\n",
              "        const docLink = document.createElement('div');\n",
              "        docLink.innerHTML = docLinkHtml;\n",
              "        element.appendChild(docLink);\n",
              "      }\n",
              "    </script>\n",
              "  </div>\n",
              "\n",
              "\n",
              "<div id=\"df-9ab30b62-8a76-40ff-bb9f-82cbf3b696ac\">\n",
              "  <button class=\"colab-df-quickchart\" onclick=\"quickchart('df-9ab30b62-8a76-40ff-bb9f-82cbf3b696ac')\"\n",
              "            title=\"Suggest charts\"\n",
              "            style=\"display:none;\">\n",
              "\n",
              "<svg xmlns=\"http://www.w3.org/2000/svg\" height=\"24px\"viewBox=\"0 0 24 24\"\n",
              "     width=\"24px\">\n",
              "    <g>\n",
              "        <path d=\"M19 3H5c-1.1 0-2 .9-2 2v14c0 1.1.9 2 2 2h14c1.1 0 2-.9 2-2V5c0-1.1-.9-2-2-2zM9 17H7v-7h2v7zm4 0h-2V7h2v10zm4 0h-2v-4h2v4z\"/>\n",
              "    </g>\n",
              "</svg>\n",
              "  </button>\n",
              "\n",
              "<style>\n",
              "  .colab-df-quickchart {\n",
              "      --bg-color: #E8F0FE;\n",
              "      --fill-color: #1967D2;\n",
              "      --hover-bg-color: #E2EBFA;\n",
              "      --hover-fill-color: #174EA6;\n",
              "      --disabled-fill-color: #AAA;\n",
              "      --disabled-bg-color: #DDD;\n",
              "  }\n",
              "\n",
              "  [theme=dark] .colab-df-quickchart {\n",
              "      --bg-color: #3B4455;\n",
              "      --fill-color: #D2E3FC;\n",
              "      --hover-bg-color: #434B5C;\n",
              "      --hover-fill-color: #FFFFFF;\n",
              "      --disabled-bg-color: #3B4455;\n",
              "      --disabled-fill-color: #666;\n",
              "  }\n",
              "\n",
              "  .colab-df-quickchart {\n",
              "    background-color: var(--bg-color);\n",
              "    border: none;\n",
              "    border-radius: 50%;\n",
              "    cursor: pointer;\n",
              "    display: none;\n",
              "    fill: var(--fill-color);\n",
              "    height: 32px;\n",
              "    padding: 0;\n",
              "    width: 32px;\n",
              "  }\n",
              "\n",
              "  .colab-df-quickchart:hover {\n",
              "    background-color: var(--hover-bg-color);\n",
              "    box-shadow: 0 1px 2px rgba(60, 64, 67, 0.3), 0 1px 3px 1px rgba(60, 64, 67, 0.15);\n",
              "    fill: var(--button-hover-fill-color);\n",
              "  }\n",
              "\n",
              "  .colab-df-quickchart-complete:disabled,\n",
              "  .colab-df-quickchart-complete:disabled:hover {\n",
              "    background-color: var(--disabled-bg-color);\n",
              "    fill: var(--disabled-fill-color);\n",
              "    box-shadow: none;\n",
              "  }\n",
              "\n",
              "  .colab-df-spinner {\n",
              "    border: 2px solid var(--fill-color);\n",
              "    border-color: transparent;\n",
              "    border-bottom-color: var(--fill-color);\n",
              "    animation:\n",
              "      spin 1s steps(1) infinite;\n",
              "  }\n",
              "\n",
              "  @keyframes spin {\n",
              "    0% {\n",
              "      border-color: transparent;\n",
              "      border-bottom-color: var(--fill-color);\n",
              "      border-left-color: var(--fill-color);\n",
              "    }\n",
              "    20% {\n",
              "      border-color: transparent;\n",
              "      border-left-color: var(--fill-color);\n",
              "      border-top-color: var(--fill-color);\n",
              "    }\n",
              "    30% {\n",
              "      border-color: transparent;\n",
              "      border-left-color: var(--fill-color);\n",
              "      border-top-color: var(--fill-color);\n",
              "      border-right-color: var(--fill-color);\n",
              "    }\n",
              "    40% {\n",
              "      border-color: transparent;\n",
              "      border-right-color: var(--fill-color);\n",
              "      border-top-color: var(--fill-color);\n",
              "    }\n",
              "    60% {\n",
              "      border-color: transparent;\n",
              "      border-right-color: var(--fill-color);\n",
              "    }\n",
              "    80% {\n",
              "      border-color: transparent;\n",
              "      border-right-color: var(--fill-color);\n",
              "      border-bottom-color: var(--fill-color);\n",
              "    }\n",
              "    90% {\n",
              "      border-color: transparent;\n",
              "      border-bottom-color: var(--fill-color);\n",
              "    }\n",
              "  }\n",
              "</style>\n",
              "\n",
              "  <script>\n",
              "    async function quickchart(key) {\n",
              "      const quickchartButtonEl =\n",
              "        document.querySelector('#' + key + ' button');\n",
              "      quickchartButtonEl.disabled = true;  // To prevent multiple clicks.\n",
              "      quickchartButtonEl.classList.add('colab-df-spinner');\n",
              "      try {\n",
              "        const charts = await google.colab.kernel.invokeFunction(\n",
              "            'suggestCharts', [key], {});\n",
              "      } catch (error) {\n",
              "        console.error('Error during call to suggestCharts:', error);\n",
              "      }\n",
              "      quickchartButtonEl.classList.remove('colab-df-spinner');\n",
              "      quickchartButtonEl.classList.add('colab-df-quickchart-complete');\n",
              "    }\n",
              "    (() => {\n",
              "      let quickchartButtonEl =\n",
              "        document.querySelector('#df-9ab30b62-8a76-40ff-bb9f-82cbf3b696ac button');\n",
              "      quickchartButtonEl.style.display =\n",
              "        google.colab.kernel.accessAllowed ? 'block' : 'none';\n",
              "    })();\n",
              "  </script>\n",
              "</div>\n",
              "\n",
              "    </div>\n",
              "  </div>\n"
            ],
            "application/vnd.google.colaboratory.intrinsic+json": {
              "type": "dataframe",
              "summary": "{\n  \"name\": \"pd\",\n  \"rows\": 8,\n  \"fields\": [\n    {\n      \"column\": 0,\n      \"properties\": {\n        \"dtype\": \"number\",\n        \"std\": 5472.904937457961,\n        \"min\": 0.0,\n        \"max\": 15480.0,\n        \"num_unique_values\": 8,\n        \"samples\": [\n          0.23299086367408925,\n          0.20992813892222179,\n          15480.0\n        ],\n        \"semantic_type\": \"\",\n        \"description\": \"\"\n      }\n    },\n    {\n      \"column\": 1,\n      \"properties\": {\n        \"dtype\": \"number\",\n        \"std\": 5472.835949912473,\n        \"min\": 0.0,\n        \"max\": 15480.0,\n        \"num_unique_values\": 8,\n        \"samples\": [\n          0.5410979378831636,\n          0.5490196078431372,\n          15480.0\n        ],\n        \"semantic_type\": \"\",\n        \"description\": \"\"\n      }\n    },\n    {\n      \"column\": 2,\n      \"properties\": {\n        \"dtype\": \"number\",\n        \"std\": 5472.948811153513,\n        \"min\": 0.0,\n        \"max\": 15480.0,\n        \"num_unique_values\": 8,\n        \"samples\": [\n          0.03224154722841233,\n          0.030800142817750998,\n          15480.0\n        ],\n        \"semantic_type\": \"\",\n        \"description\": \"\"\n      }\n    },\n    {\n      \"column\": 3,\n      \"properties\": {\n        \"dtype\": \"number\",\n        \"std\": 5472.949285658307,\n        \"min\": 0.0,\n        \"max\": 15480.0,\n        \"num_unique_values\": 8,\n        \"samples\": [\n          0.03017614175224873,\n          0.028297521498356668,\n          15480.0\n        ],\n        \"semantic_type\": \"\",\n        \"description\": \"\"\n      }\n    },\n    {\n      \"column\": 4,\n      \"properties\": {\n        \"dtype\": \"number\",\n        \"std\": 5472.947154231106,\n        \"min\": 0.0,\n        \"max\": 15480.0,\n        \"num_unique_values\": 8,\n        \"samples\": [\n          0.03992537029686105,\n          0.03262423274194905,\n          15480.0\n        ],\n        \"semantic_type\": \"\",\n        \"description\": \"\"\n      }\n    },\n    {\n      \"column\": 5,\n      \"properties\": {\n        \"dtype\": \"number\",\n        \"std\": 5472.955143597635,\n        \"min\": 0.0,\n        \"max\": 15480.0,\n        \"num_unique_values\": 8,\n        \"samples\": [\n          0.00194291991102316,\n          0.0017103603950572588,\n          15480.0\n        ],\n        \"semantic_type\": \"\",\n        \"description\": \"\"\n      }\n    },\n    {\n      \"column\": 6,\n      \"properties\": {\n        \"dtype\": \"number\",\n        \"std\": 5472.883392614465,\n        \"min\": 0.0,\n        \"max\": 15480.0,\n        \"num_unique_values\": 8,\n        \"samples\": [\n          0.32943825938754207,\n          0.18297872340425592,\n          15480.0\n        ],\n        \"semantic_type\": \"\",\n        \"description\": \"\"\n      }\n    },\n    {\n      \"column\": 7,\n      \"properties\": {\n        \"dtype\": \"number\",\n        \"std\": 5472.847835079216,\n        \"min\": 0.0,\n        \"max\": 15480.0,\n        \"num_unique_values\": 8,\n        \"samples\": [\n          0.4747275111440537,\n          0.5816733067729078,\n          15480.0\n        ],\n        \"semantic_type\": \"\",\n        \"description\": \"\"\n      }\n    }\n  ]\n}"
            }
          },
          "metadata": {},
          "execution_count": 158
        }
      ]
    },
    {
      "cell_type": "code",
      "source": [
        "# ssy = StandardScaler()\n",
        "ssy = MinMaxScaler()\n",
        "ytrains = ssy.fit_transform(ytrain.reshape(-1,1))\n",
        "pd.DataFrame(ytrains).describe()"
      ],
      "metadata": {
        "colab": {
          "base_uri": "https://localhost:8080/",
          "height": 300
        },
        "id": "OnnqFJVBWZwH",
        "outputId": "248deebb-492b-4571-c716-50a7bd96c6b8"
      },
      "execution_count": 159,
      "outputs": [
        {
          "output_type": "execute_result",
          "data": {
            "text/plain": [
              "                 0\n",
              "count 15480.000000\n",
              "mean      0.395949\n",
              "std       0.238177\n",
              "min       0.000000\n",
              "25%       0.215826\n",
              "50%       0.339382\n",
              "75%       0.514845\n",
              "max       1.000000"
            ],
            "text/html": [
              "\n",
              "  <div id=\"df-9c8e9783-ea72-4cfa-b70c-658241b1047d\" class=\"colab-df-container\">\n",
              "    <div>\n",
              "<style scoped>\n",
              "    .dataframe tbody tr th:only-of-type {\n",
              "        vertical-align: middle;\n",
              "    }\n",
              "\n",
              "    .dataframe tbody tr th {\n",
              "        vertical-align: top;\n",
              "    }\n",
              "\n",
              "    .dataframe thead th {\n",
              "        text-align: right;\n",
              "    }\n",
              "</style>\n",
              "<table border=\"1\" class=\"dataframe\">\n",
              "  <thead>\n",
              "    <tr style=\"text-align: right;\">\n",
              "      <th></th>\n",
              "      <th>0</th>\n",
              "    </tr>\n",
              "  </thead>\n",
              "  <tbody>\n",
              "    <tr>\n",
              "      <th>count</th>\n",
              "      <td>15480.000000</td>\n",
              "    </tr>\n",
              "    <tr>\n",
              "      <th>mean</th>\n",
              "      <td>0.395949</td>\n",
              "    </tr>\n",
              "    <tr>\n",
              "      <th>std</th>\n",
              "      <td>0.238177</td>\n",
              "    </tr>\n",
              "    <tr>\n",
              "      <th>min</th>\n",
              "      <td>0.000000</td>\n",
              "    </tr>\n",
              "    <tr>\n",
              "      <th>25%</th>\n",
              "      <td>0.215826</td>\n",
              "    </tr>\n",
              "    <tr>\n",
              "      <th>50%</th>\n",
              "      <td>0.339382</td>\n",
              "    </tr>\n",
              "    <tr>\n",
              "      <th>75%</th>\n",
              "      <td>0.514845</td>\n",
              "    </tr>\n",
              "    <tr>\n",
              "      <th>max</th>\n",
              "      <td>1.000000</td>\n",
              "    </tr>\n",
              "  </tbody>\n",
              "</table>\n",
              "</div>\n",
              "    <div class=\"colab-df-buttons\">\n",
              "\n",
              "  <div class=\"colab-df-container\">\n",
              "    <button class=\"colab-df-convert\" onclick=\"convertToInteractive('df-9c8e9783-ea72-4cfa-b70c-658241b1047d')\"\n",
              "            title=\"Convert this dataframe to an interactive table.\"\n",
              "            style=\"display:none;\">\n",
              "\n",
              "  <svg xmlns=\"http://www.w3.org/2000/svg\" height=\"24px\" viewBox=\"0 -960 960 960\">\n",
              "    <path d=\"M120-120v-720h720v720H120Zm60-500h600v-160H180v160Zm220 220h160v-160H400v160Zm0 220h160v-160H400v160ZM180-400h160v-160H180v160Zm440 0h160v-160H620v160ZM180-180h160v-160H180v160Zm440 0h160v-160H620v160Z\"/>\n",
              "  </svg>\n",
              "    </button>\n",
              "\n",
              "  <style>\n",
              "    .colab-df-container {\n",
              "      display:flex;\n",
              "      gap: 12px;\n",
              "    }\n",
              "\n",
              "    .colab-df-convert {\n",
              "      background-color: #E8F0FE;\n",
              "      border: none;\n",
              "      border-radius: 50%;\n",
              "      cursor: pointer;\n",
              "      display: none;\n",
              "      fill: #1967D2;\n",
              "      height: 32px;\n",
              "      padding: 0 0 0 0;\n",
              "      width: 32px;\n",
              "    }\n",
              "\n",
              "    .colab-df-convert:hover {\n",
              "      background-color: #E2EBFA;\n",
              "      box-shadow: 0px 1px 2px rgba(60, 64, 67, 0.3), 0px 1px 3px 1px rgba(60, 64, 67, 0.15);\n",
              "      fill: #174EA6;\n",
              "    }\n",
              "\n",
              "    .colab-df-buttons div {\n",
              "      margin-bottom: 4px;\n",
              "    }\n",
              "\n",
              "    [theme=dark] .colab-df-convert {\n",
              "      background-color: #3B4455;\n",
              "      fill: #D2E3FC;\n",
              "    }\n",
              "\n",
              "    [theme=dark] .colab-df-convert:hover {\n",
              "      background-color: #434B5C;\n",
              "      box-shadow: 0px 1px 3px 1px rgba(0, 0, 0, 0.15);\n",
              "      filter: drop-shadow(0px 1px 2px rgba(0, 0, 0, 0.3));\n",
              "      fill: #FFFFFF;\n",
              "    }\n",
              "  </style>\n",
              "\n",
              "    <script>\n",
              "      const buttonEl =\n",
              "        document.querySelector('#df-9c8e9783-ea72-4cfa-b70c-658241b1047d button.colab-df-convert');\n",
              "      buttonEl.style.display =\n",
              "        google.colab.kernel.accessAllowed ? 'block' : 'none';\n",
              "\n",
              "      async function convertToInteractive(key) {\n",
              "        const element = document.querySelector('#df-9c8e9783-ea72-4cfa-b70c-658241b1047d');\n",
              "        const dataTable =\n",
              "          await google.colab.kernel.invokeFunction('convertToInteractive',\n",
              "                                                    [key], {});\n",
              "        if (!dataTable) return;\n",
              "\n",
              "        const docLinkHtml = 'Like what you see? Visit the ' +\n",
              "          '<a target=\"_blank\" href=https://colab.research.google.com/notebooks/data_table.ipynb>data table notebook</a>'\n",
              "          + ' to learn more about interactive tables.';\n",
              "        element.innerHTML = '';\n",
              "        dataTable['output_type'] = 'display_data';\n",
              "        await google.colab.output.renderOutput(dataTable, element);\n",
              "        const docLink = document.createElement('div');\n",
              "        docLink.innerHTML = docLinkHtml;\n",
              "        element.appendChild(docLink);\n",
              "      }\n",
              "    </script>\n",
              "  </div>\n",
              "\n",
              "\n",
              "<div id=\"df-c11acdb5-b21c-4f23-a6a5-cc91cc2f5faa\">\n",
              "  <button class=\"colab-df-quickchart\" onclick=\"quickchart('df-c11acdb5-b21c-4f23-a6a5-cc91cc2f5faa')\"\n",
              "            title=\"Suggest charts\"\n",
              "            style=\"display:none;\">\n",
              "\n",
              "<svg xmlns=\"http://www.w3.org/2000/svg\" height=\"24px\"viewBox=\"0 0 24 24\"\n",
              "     width=\"24px\">\n",
              "    <g>\n",
              "        <path d=\"M19 3H5c-1.1 0-2 .9-2 2v14c0 1.1.9 2 2 2h14c1.1 0 2-.9 2-2V5c0-1.1-.9-2-2-2zM9 17H7v-7h2v7zm4 0h-2V7h2v10zm4 0h-2v-4h2v4z\"/>\n",
              "    </g>\n",
              "</svg>\n",
              "  </button>\n",
              "\n",
              "<style>\n",
              "  .colab-df-quickchart {\n",
              "      --bg-color: #E8F0FE;\n",
              "      --fill-color: #1967D2;\n",
              "      --hover-bg-color: #E2EBFA;\n",
              "      --hover-fill-color: #174EA6;\n",
              "      --disabled-fill-color: #AAA;\n",
              "      --disabled-bg-color: #DDD;\n",
              "  }\n",
              "\n",
              "  [theme=dark] .colab-df-quickchart {\n",
              "      --bg-color: #3B4455;\n",
              "      --fill-color: #D2E3FC;\n",
              "      --hover-bg-color: #434B5C;\n",
              "      --hover-fill-color: #FFFFFF;\n",
              "      --disabled-bg-color: #3B4455;\n",
              "      --disabled-fill-color: #666;\n",
              "  }\n",
              "\n",
              "  .colab-df-quickchart {\n",
              "    background-color: var(--bg-color);\n",
              "    border: none;\n",
              "    border-radius: 50%;\n",
              "    cursor: pointer;\n",
              "    display: none;\n",
              "    fill: var(--fill-color);\n",
              "    height: 32px;\n",
              "    padding: 0;\n",
              "    width: 32px;\n",
              "  }\n",
              "\n",
              "  .colab-df-quickchart:hover {\n",
              "    background-color: var(--hover-bg-color);\n",
              "    box-shadow: 0 1px 2px rgba(60, 64, 67, 0.3), 0 1px 3px 1px rgba(60, 64, 67, 0.15);\n",
              "    fill: var(--button-hover-fill-color);\n",
              "  }\n",
              "\n",
              "  .colab-df-quickchart-complete:disabled,\n",
              "  .colab-df-quickchart-complete:disabled:hover {\n",
              "    background-color: var(--disabled-bg-color);\n",
              "    fill: var(--disabled-fill-color);\n",
              "    box-shadow: none;\n",
              "  }\n",
              "\n",
              "  .colab-df-spinner {\n",
              "    border: 2px solid var(--fill-color);\n",
              "    border-color: transparent;\n",
              "    border-bottom-color: var(--fill-color);\n",
              "    animation:\n",
              "      spin 1s steps(1) infinite;\n",
              "  }\n",
              "\n",
              "  @keyframes spin {\n",
              "    0% {\n",
              "      border-color: transparent;\n",
              "      border-bottom-color: var(--fill-color);\n",
              "      border-left-color: var(--fill-color);\n",
              "    }\n",
              "    20% {\n",
              "      border-color: transparent;\n",
              "      border-left-color: var(--fill-color);\n",
              "      border-top-color: var(--fill-color);\n",
              "    }\n",
              "    30% {\n",
              "      border-color: transparent;\n",
              "      border-left-color: var(--fill-color);\n",
              "      border-top-color: var(--fill-color);\n",
              "      border-right-color: var(--fill-color);\n",
              "    }\n",
              "    40% {\n",
              "      border-color: transparent;\n",
              "      border-right-color: var(--fill-color);\n",
              "      border-top-color: var(--fill-color);\n",
              "    }\n",
              "    60% {\n",
              "      border-color: transparent;\n",
              "      border-right-color: var(--fill-color);\n",
              "    }\n",
              "    80% {\n",
              "      border-color: transparent;\n",
              "      border-right-color: var(--fill-color);\n",
              "      border-bottom-color: var(--fill-color);\n",
              "    }\n",
              "    90% {\n",
              "      border-color: transparent;\n",
              "      border-bottom-color: var(--fill-color);\n",
              "    }\n",
              "  }\n",
              "</style>\n",
              "\n",
              "  <script>\n",
              "    async function quickchart(key) {\n",
              "      const quickchartButtonEl =\n",
              "        document.querySelector('#' + key + ' button');\n",
              "      quickchartButtonEl.disabled = true;  // To prevent multiple clicks.\n",
              "      quickchartButtonEl.classList.add('colab-df-spinner');\n",
              "      try {\n",
              "        const charts = await google.colab.kernel.invokeFunction(\n",
              "            'suggestCharts', [key], {});\n",
              "      } catch (error) {\n",
              "        console.error('Error during call to suggestCharts:', error);\n",
              "      }\n",
              "      quickchartButtonEl.classList.remove('colab-df-spinner');\n",
              "      quickchartButtonEl.classList.add('colab-df-quickchart-complete');\n",
              "    }\n",
              "    (() => {\n",
              "      let quickchartButtonEl =\n",
              "        document.querySelector('#df-c11acdb5-b21c-4f23-a6a5-cc91cc2f5faa button');\n",
              "      quickchartButtonEl.style.display =\n",
              "        google.colab.kernel.accessAllowed ? 'block' : 'none';\n",
              "    })();\n",
              "  </script>\n",
              "</div>\n",
              "\n",
              "    </div>\n",
              "  </div>\n"
            ],
            "application/vnd.google.colaboratory.intrinsic+json": {
              "type": "dataframe",
              "summary": "{\n  \"name\": \"pd\",\n  \"rows\": 8,\n  \"fields\": [\n    {\n      \"column\": 0,\n      \"properties\": {\n        \"dtype\": \"number\",\n        \"std\": 5472.869912498824,\n        \"min\": 0.0,\n        \"max\": 15480.0,\n        \"num_unique_values\": 8,\n        \"samples\": [\n          0.3959486601174089,\n          0.3393821056408015,\n          15480.0\n        ],\n        \"semantic_type\": \"\",\n        \"description\": \"\"\n      }\n    }\n  ]\n}"
            }
          },
          "metadata": {},
          "execution_count": 159
        }
      ]
    },
    {
      "cell_type": "code",
      "source": [
        "np.set_printoptions(precision=6, suppress=True)"
      ],
      "metadata": {
        "id": "Iy07qyjBYghA"
      },
      "execution_count": 160,
      "outputs": []
    },
    {
      "cell_type": "code",
      "source": [
        "xtraint = torch.tensor(xtrains,dtype = torch.float32)\n",
        "ytraint = torch.tensor(ytrains, dtype = torch.float32)\n",
        "type(xtraint),type(ytraint)"
      ],
      "metadata": {
        "colab": {
          "base_uri": "https://localhost:8080/"
        },
        "id": "ljKijeHDa1pt",
        "outputId": "0cc017c6-a382-4818-a010-b4df5b860139"
      },
      "execution_count": 161,
      "outputs": [
        {
          "output_type": "execute_result",
          "data": {
            "text/plain": [
              "(torch.Tensor, torch.Tensor)"
            ]
          },
          "metadata": {},
          "execution_count": 161
        }
      ]
    },
    {
      "cell_type": "code",
      "source": [
        "class Linear(nn.Module):\n",
        "  def __init__(self):\n",
        "    super(Linear, self).__init__()\n",
        "    self.linear = nn.Linear(8,1)\n",
        "\n",
        "  def forward(self, x):\n",
        "    return self.linear(x)\n",
        "lm = Linear()"
      ],
      "metadata": {
        "id": "_zLzqzQxXfWr"
      },
      "execution_count": 194,
      "outputs": []
    },
    {
      "cell_type": "code",
      "source": [
        "# Training\n",
        "criteria = nn.MSELoss()\n",
        "optimiser = optim.SGD(lm.parameters(), lr= 0.001,momentum = 0.9,nesterov=True)\n",
        "\n",
        "for epoch in range(1000):\n",
        "  optimiser.zero_grad()\n",
        "  outputs = lm(xtraint)\n",
        "  loss = criteria(outputs, ytraint)\n",
        "  loss.backward()\n",
        "  optimiser.step()\n",
        "\n",
        "  if epoch<10:\n",
        "    print(f\"Epoch: {epoch}, Loss: {loss.item()}, Weight: {lm.linear.weight.data}, Bias:{lm.linear.bias.item()} \")\n",
        "  elif epoch<100 and (epoch+1) % 10 == 0:\n",
        "    print(f\"Epoch: {epoch}, Loss: {loss.item()}, Weight: {lm.linear.weight.data}, Bias:{lm.linear.bias.item()} \")\n",
        "  elif (epoch+1) % 100 ==0 :\n",
        "    print(f\"Epoch: {epoch}, Loss: {loss.item()}, Weight: {lm.linear.weight.data}, Bias:{lm.linear.bias.item()} \")"
      ],
      "metadata": {
        "colab": {
          "base_uri": "https://localhost:8080/"
        },
        "id": "2WoKh57Jbko_",
        "outputId": "18e1f37f-de98-4f16-eeba-4d915266325e"
      },
      "execution_count": 195,
      "outputs": [
        {
          "output_type": "stream",
          "name": "stdout",
          "text": [
            "Epoch: 0, Loss: 0.15754817426204681, Weight: tensor([[ 0.0055,  0.1059, -0.1277,  0.0948, -0.0759,  0.0340,  0.2966, -0.1593]]), Bias:0.025007478892803192 \n",
            "Epoch: 1, Loss: 0.1564016193151474, Weight: tensor([[ 0.0060,  0.1067, -0.1276,  0.0949, -0.0759,  0.0340,  0.2969, -0.1585]]), Bias:0.02660677209496498 \n",
            "Epoch: 2, Loss: 0.1547861397266388, Weight: tensor([[ 0.0066,  0.1078, -0.1275,  0.0949, -0.0758,  0.0340,  0.2974, -0.1574]]), Bias:0.028624845668673515 \n",
            "Epoch: 3, Loss: 0.1527685970067978, Weight: tensor([[ 0.0074,  0.1091, -0.1275,  0.0950, -0.0757,  0.0340,  0.2979, -0.1561]]), Bias:0.031011708080768585 \n",
            "Epoch: 4, Loss: 0.15041257441043854, Weight: tensor([[ 0.0082,  0.1106, -0.1274,  0.0951, -0.0756,  0.0341,  0.2986, -0.1547]]), Bias:0.03372126817703247 \n",
            "Epoch: 5, Loss: 0.14777766168117523, Weight: tensor([[ 0.0092,  0.1122, -0.1273,  0.0952, -0.0754,  0.0341,  0.2992, -0.1531]]), Bias:0.03671109303832054 \n",
            "Epoch: 6, Loss: 0.14491912722587585, Weight: tensor([[ 0.0102,  0.1139, -0.1271,  0.0953, -0.0753,  0.0341,  0.3000, -0.1513]]), Bias:0.0399421751499176 \n",
            "Epoch: 7, Loss: 0.1418876051902771, Weight: tensor([[ 0.0112,  0.1157, -0.1270,  0.0954, -0.0752,  0.0341,  0.3007, -0.1495]]), Bias:0.04337870329618454 \n",
            "Epoch: 8, Loss: 0.13872908055782318, Weight: tensor([[ 0.0124,  0.1176, -0.1269,  0.0955, -0.0750,  0.0341,  0.3015, -0.1476]]), Bias:0.0469878651201725 \n",
            "Epoch: 9, Loss: 0.13548481464385986, Weight: tensor([[ 0.0136,  0.1197, -0.1268,  0.0956, -0.0749,  0.0341,  0.3024, -0.1455]]), Bias:0.05073964595794678 \n",
            "Epoch: 19, Loss: 0.10442747175693512, Weight: tensor([[ 0.0267,  0.1411, -0.1254,  0.0968, -0.0732,  0.0342,  0.3109, -0.1236]]), Bias:0.09115340560674667 \n",
            "Epoch: 29, Loss: 0.08384480327367783, Weight: tensor([[ 0.0393,  0.1602, -0.1241,  0.0978, -0.0716,  0.0342,  0.3175, -0.1032]]), Bias:0.12757979333400726 \n",
            "Epoch: 39, Loss: 0.07336641848087311, Weight: tensor([[ 0.0501,  0.1743, -0.1231,  0.0986, -0.0704,  0.0343,  0.3209, -0.0871]]), Bias:0.15495090186595917 \n",
            "Epoch: 49, Loss: 0.06868065148591995, Weight: tensor([[ 0.0588,  0.1833, -0.1224,  0.0991, -0.0696,  0.0343,  0.3214, -0.0752]]), Bias:0.17347633838653564 \n",
            "Epoch: 59, Loss: 0.06661919504404068, Weight: tensor([[ 0.0659,  0.1885, -0.1219,  0.0994, -0.0690,  0.0343,  0.3198, -0.0666]]), Bias:0.18509988486766815 \n",
            "Epoch: 69, Loss: 0.06557412445545197, Weight: tensor([[ 0.0719,  0.1911, -0.1216,  0.0996, -0.0686,  0.0343,  0.3166, -0.0604]]), Bias:0.19193823635578156 \n",
            "Epoch: 79, Loss: 0.06487839668989182, Weight: tensor([[ 0.0772,  0.1920, -0.1213,  0.0997, -0.0684,  0.0343,  0.3125, -0.0557]]), Bias:0.195717915892601 \n",
            "Epoch: 89, Loss: 0.06429428607225418, Weight: tensor([[ 0.0820,  0.1918, -0.1211,  0.0997, -0.0682,  0.0343,  0.3079, -0.0519]]), Bias:0.1976684331893921 \n",
            "Epoch: 99, Loss: 0.0637480691075325, Weight: tensor([[ 0.0865,  0.1912, -0.1210,  0.0997, -0.0680,  0.0343,  0.3031, -0.0487]]), Bias:0.19859130680561066 \n",
            "Epoch: 199, Loss: 0.05901741236448288, Weight: tensor([[ 0.1290,  0.1805, -0.1198,  0.0993, -0.0669,  0.0341,  0.2557, -0.0242]]), Bias:0.19896362721920013 \n",
            "Epoch: 299, Loss: 0.055281080305576324, Weight: tensor([[ 0.1697,  0.1714, -0.1187,  0.0990, -0.0660,  0.0340,  0.2149, -0.0055]]), Bias:0.19892948865890503 \n",
            "Epoch: 399, Loss: 0.052267223596572876, Weight: tensor([[ 0.2088,  0.1639, -0.1177,  0.0986, -0.0652,  0.0339,  0.1796,  0.0085]]), Bias:0.19883354008197784 \n",
            "Epoch: 499, Loss: 0.0497843436896801, Weight: tensor([[ 0.2464,  0.1576, -0.1166,  0.0983, -0.0645,  0.0337,  0.1489,  0.0188]]), Bias:0.1986882984638214 \n",
            "Epoch: 599, Loss: 0.04769688844680786, Weight: tensor([[ 0.2824,  0.1525, -0.1156,  0.0980, -0.0639,  0.0336,  0.1222,  0.0258]]), Bias:0.19850943982601166 \n",
            "Epoch: 699, Loss: 0.045908499509096146, Weight: tensor([[ 0.3172,  0.1482, -0.1147,  0.0978, -0.0634,  0.0335,  0.0987,  0.0302]]), Bias:0.19831064343452454 \n",
            "Epoch: 799, Loss: 0.04435035213828087, Weight: tensor([[ 0.3506,  0.1448, -0.1137,  0.0975, -0.0629,  0.0333,  0.0779,  0.0325]]), Bias:0.19810394942760468 \n",
            "Epoch: 899, Loss: 0.04297292232513428, Weight: tensor([[ 0.3827,  0.1420, -0.1129,  0.0973, -0.0625,  0.0332,  0.0595,  0.0330]]), Bias:0.19789911806583405 \n",
            "Epoch: 999, Loss: 0.04174027591943741, Weight: tensor([[ 0.4137,  0.1399, -0.1120,  0.0971, -0.0621,  0.0331,  0.0430,  0.0320]]), Bias:0.19770537316799164 \n"
          ]
        }
      ]
    },
    {
      "cell_type": "code",
      "source": [
        "xtests = ssx.transform(xtest)\n",
        "ytests = ssy.transform(ytest.reshape(-1,1))\n",
        "xtestt = torch.tensor(xtests, dtype=torch.float32)\n",
        "ytestt = torch.tensor(ytests, dtype = torch.float32)"
      ],
      "metadata": {
        "id": "uZqJlTweejJo"
      },
      "execution_count": 196,
      "outputs": []
    },
    {
      "cell_type": "code",
      "source": [
        "with torch.no_grad():\n",
        "  ypred = lm(xtestt)\n",
        "  mseloss = criteria(ypred, ytestt)\n",
        "print(f\"MSE loss: {mseloss}\")"
      ],
      "metadata": {
        "colab": {
          "base_uri": "https://localhost:8080/"
        },
        "id": "lJenlEMLh6D1",
        "outputId": "ef210901-f6e6-412e-a8ed-35530aecd03e"
      },
      "execution_count": 197,
      "outputs": [
        {
          "output_type": "stream",
          "name": "stdout",
          "text": [
            "MSE loss: 0.041391804814338684\n"
          ]
        }
      ]
    },
    {
      "cell_type": "code",
      "source": [
        "criteria(ypred, ytestt)\n",
        "print(f\"MSE loss: {criteria(ypred, ytestt)}\")\n",
        "\n",
        "criterion = nn.L1Loss()\n",
        "print(f\"L1 loss: {criterion(ypred, ytestt)}\")\n",
        "\n",
        "criterion = torch.nn.SmoothL1Loss()\n",
        "print(f\"Smooth L1 loss: {criterion(ypred, ytestt)}\")"
      ],
      "metadata": {
        "colab": {
          "base_uri": "https://localhost:8080/"
        },
        "id": "sfHe9QWvjsnu",
        "outputId": "f5ae1283-9dae-41c7-d97e-698bb7c4411c"
      },
      "execution_count": 198,
      "outputs": [
        {
          "output_type": "stream",
          "name": "stdout",
          "text": [
            "MSE loss: 0.041391804814338684\n",
            "L1 loss: 0.16029399633407593\n",
            "Smooth L1 loss: 0.020695902407169342\n"
          ]
        }
      ]
    },
    {
      "cell_type": "code",
      "source": [],
      "metadata": {
        "id": "H3kMjQ8nmmu0"
      },
      "execution_count": null,
      "outputs": []
    }
  ]
}