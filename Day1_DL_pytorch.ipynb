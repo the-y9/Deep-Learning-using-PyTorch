{
  "nbformat": 4,
  "nbformat_minor": 0,
  "metadata": {
    "colab": {
      "provenance": [],
      "gpuType": "T4",
      "authorship_tag": "ABX9TyMc9lvoiU/KszTLJ8v1UgFt",
      "include_colab_link": true
    },
    "kernelspec": {
      "name": "python3",
      "display_name": "Python 3"
    },
    "language_info": {
      "name": "python"
    },
    "accelerator": "GPU"
  },
  "cells": [
    {
      "cell_type": "markdown",
      "metadata": {
        "id": "view-in-github",
        "colab_type": "text"
      },
      "source": [
        "<a href=\"https://colab.research.google.com/github/the-y9/Deep-Learning-using-PyTorch/blob/main/Day1_DL_pytorch.ipynb\" target=\"_parent\"><img src=\"https://colab.research.google.com/assets/colab-badge.svg\" alt=\"Open In Colab\"/></a>"
      ]
    },
    {
      "cell_type": "code",
      "execution_count": null,
      "metadata": {
        "id": "hHeBNwwYUhrh"
      },
      "outputs": [],
      "source": [
        "import torch"
      ]
    },
    {
      "cell_type": "code",
      "source": [
        "torch.__version__"
      ],
      "metadata": {
        "colab": {
          "base_uri": "https://localhost:8080/",
          "height": 36
        },
        "id": "z2mpZipuUlEY",
        "outputId": "264ce734-0635-4cc9-ef8b-368443048d47"
      },
      "execution_count": null,
      "outputs": [
        {
          "output_type": "execute_result",
          "data": {
            "text/plain": [
              "'2.4.0+cu121'"
            ],
            "application/vnd.google.colaboratory.intrinsic+json": {
              "type": "string"
            }
          },
          "metadata": {},
          "execution_count": 2
        }
      ]
    },
    {
      "cell_type": "code",
      "source": [
        "l = [1,2,3]\n",
        "t1 = torch.tensor(l)\n",
        "t1"
      ],
      "metadata": {
        "colab": {
          "base_uri": "https://localhost:8080/"
        },
        "id": "PN55G6GKUm6x",
        "outputId": "a2cca28f-91c0-4f1b-8345-889790cbcb90"
      },
      "execution_count": null,
      "outputs": [
        {
          "output_type": "execute_result",
          "data": {
            "text/plain": [
              "tensor([1, 2, 3])"
            ]
          },
          "metadata": {},
          "execution_count": 3
        }
      ]
    },
    {
      "cell_type": "code",
      "source": [
        "import numpy as np"
      ],
      "metadata": {
        "id": "9mMrYNXYVgIc"
      },
      "execution_count": null,
      "outputs": []
    },
    {
      "cell_type": "code",
      "source": [
        "npa = np.array(l)\n",
        "t2 = torch.tensor(npa)\n",
        "t2"
      ],
      "metadata": {
        "colab": {
          "base_uri": "https://localhost:8080/"
        },
        "id": "bFJ7p2KRVywa",
        "outputId": "d303ee96-9443-4caa-e18d-225995f19bd2"
      },
      "execution_count": null,
      "outputs": [
        {
          "output_type": "execute_result",
          "data": {
            "text/plain": [
              "tensor([1, 2, 3])"
            ]
          },
          "metadata": {},
          "execution_count": 5
        }
      ]
    },
    {
      "cell_type": "code",
      "source": [
        "t1 = torch.ones((2,2))\n",
        "t1"
      ],
      "metadata": {
        "colab": {
          "base_uri": "https://localhost:8080/"
        },
        "id": "11GBwEKtV7H1",
        "outputId": "122e21a5-c463-4385-cf68-a36d35597b2c"
      },
      "execution_count": null,
      "outputs": [
        {
          "output_type": "execute_result",
          "data": {
            "text/plain": [
              "tensor([[1., 1.],\n",
              "        [1., 1.]])"
            ]
          },
          "metadata": {},
          "execution_count": 6
        }
      ]
    },
    {
      "cell_type": "code",
      "source": [
        "t3 = torch.rand((2,2))\n",
        "t3"
      ],
      "metadata": {
        "colab": {
          "base_uri": "https://localhost:8080/"
        },
        "id": "d15BPoboWHY0",
        "outputId": "e5ebc7fe-e884-436b-807f-a01f206972e3"
      },
      "execution_count": null,
      "outputs": [
        {
          "output_type": "execute_result",
          "data": {
            "text/plain": [
              "tensor([[0.2421, 0.2736],\n",
              "        [0.4654, 0.4064]])"
            ]
          },
          "metadata": {},
          "execution_count": 7
        }
      ]
    },
    {
      "cell_type": "code",
      "source": [
        "t4 = torch.randint(0,10,size = (2,2))\n",
        "t4"
      ],
      "metadata": {
        "id": "tg2IaRknWQks",
        "colab": {
          "base_uri": "https://localhost:8080/"
        },
        "outputId": "101c79ec-2751-480c-b514-cd719359f9af"
      },
      "execution_count": null,
      "outputs": [
        {
          "output_type": "execute_result",
          "data": {
            "text/plain": [
              "tensor([[3, 5],\n",
              "        [8, 5]])"
            ]
          },
          "metadata": {},
          "execution_count": 8
        }
      ]
    },
    {
      "cell_type": "code",
      "source": [
        "t5 = torch.arange(0,10,3)\n",
        "t5"
      ],
      "metadata": {
        "colab": {
          "base_uri": "https://localhost:8080/"
        },
        "id": "aAhb2NJwW7si",
        "outputId": "fd32b4bd-8644-45e5-a731-9a61e70c37da"
      },
      "execution_count": null,
      "outputs": [
        {
          "output_type": "execute_result",
          "data": {
            "text/plain": [
              "tensor([0, 3, 6, 9])"
            ]
          },
          "metadata": {},
          "execution_count": 9
        }
      ]
    },
    {
      "cell_type": "code",
      "source": [
        "t5 = torch.arange(0,9).reshape(3,3)\n",
        "t5"
      ],
      "metadata": {
        "colab": {
          "base_uri": "https://localhost:8080/"
        },
        "id": "4jhmIyB9XCec",
        "outputId": "6a2705b9-f404-44d0-e45c-9c20fa664807"
      },
      "execution_count": null,
      "outputs": [
        {
          "output_type": "execute_result",
          "data": {
            "text/plain": [
              "tensor([[0, 1, 2],\n",
              "        [3, 4, 5],\n",
              "        [6, 7, 8]])"
            ]
          },
          "metadata": {},
          "execution_count": 10
        }
      ]
    },
    {
      "cell_type": "code",
      "source": [
        "t10 = torch.zeros_like(t5)\n",
        "t10"
      ],
      "metadata": {
        "colab": {
          "base_uri": "https://localhost:8080/"
        },
        "id": "fxfXL9jnXPGy",
        "outputId": "ea4dd331-26b3-441c-ab44-08bd7cbd8ce3"
      },
      "execution_count": null,
      "outputs": [
        {
          "output_type": "execute_result",
          "data": {
            "text/plain": [
              "tensor([[0, 0, 0],\n",
              "        [0, 0, 0],\n",
              "        [0, 0, 0]])"
            ]
          },
          "metadata": {},
          "execution_count": 11
        }
      ]
    },
    {
      "cell_type": "code",
      "source": [
        "t10 = torch.ones_like(t5)\n",
        "t5\n"
      ],
      "metadata": {
        "colab": {
          "base_uri": "https://localhost:8080/"
        },
        "id": "5mGhtpQeXbGf",
        "outputId": "25ac24cd-440d-4be9-81ab-1ebcdae6d03b"
      },
      "execution_count": null,
      "outputs": [
        {
          "output_type": "execute_result",
          "data": {
            "text/plain": [
              "tensor([[0, 1, 2],\n",
              "        [3, 4, 5],\n",
              "        [6, 7, 8]])"
            ]
          },
          "metadata": {},
          "execution_count": 12
        }
      ]
    },
    {
      "cell_type": "markdown",
      "source": [
        "## Tensor attributes"
      ],
      "metadata": {
        "id": "R2OF5U1JXzHU"
      }
    },
    {
      "cell_type": "markdown",
      "source": [
        "### ndim, shape"
      ],
      "metadata": {
        "id": "g2irUcnRaJcp"
      }
    },
    {
      "cell_type": "code",
      "source": [
        "\n",
        "t1 = torch.tensor(4)\n",
        "t2 = torch.tensor([1,2,3])\n",
        "t3 = torch.tensor([[1,2,3],[1,2,3]])\n",
        "t4 = torch.tensor([[[1,2,3],[1,2,3]],[[1,2,3],[1,2,3]]])\n",
        "\n",
        "print(t1.ndim,t2.ndim,t3.ndim,t4.ndim)\n",
        "print(t1.shape,t2.shape,t3.shape,t4.shape)"
      ],
      "metadata": {
        "colab": {
          "base_uri": "https://localhost:8080/"
        },
        "id": "eFlpjOk2X2fK",
        "outputId": "4d2a521c-a2b9-4232-bc60-715b8390cd15"
      },
      "execution_count": null,
      "outputs": [
        {
          "output_type": "stream",
          "name": "stdout",
          "text": [
            "0 1 2 3\n",
            "torch.Size([]) torch.Size([3]) torch.Size([2, 3]) torch.Size([2, 2, 3])\n"
          ]
        }
      ]
    },
    {
      "cell_type": "markdown",
      "source": [
        "### dtpye\n",
        "- torch.float32 (float)\n",
        "- torch.float64 (double)\n",
        "- torch.int32 (int)\n",
        "- torch.int64 (long)\n",
        "- torch.int8 - 8bits"
      ],
      "metadata": {
        "id": "x6LdhfrqX1lN"
      }
    },
    {
      "cell_type": "code",
      "source": [
        "t1 = torch.tensor([1,2,3], dtype = torch.int8)\n",
        "print(t1.dtype,t1)"
      ],
      "metadata": {
        "id": "qzBoKR0BZjoe",
        "colab": {
          "base_uri": "https://localhost:8080/"
        },
        "outputId": "75ddb547-027a-40f6-851e-a1c35f4ccc14"
      },
      "execution_count": null,
      "outputs": [
        {
          "output_type": "stream",
          "name": "stdout",
          "text": [
            "torch.int8 tensor([1, 2, 3], dtype=torch.int8)\n"
          ]
        }
      ]
    },
    {
      "cell_type": "code",
      "source": [
        "t2 = torch.tensor([1.0,2,3], requires_grad = True)\n",
        "t2"
      ],
      "metadata": {
        "colab": {
          "base_uri": "https://localhost:8080/"
        },
        "id": "8yymt9EDaart",
        "outputId": "a1825e4f-111c-4b7b-ff92-dddde58f3bb3"
      },
      "execution_count": null,
      "outputs": [
        {
          "output_type": "execute_result",
          "data": {
            "text/plain": [
              "tensor([1., 2., 3.], requires_grad=True)"
            ]
          },
          "metadata": {},
          "execution_count": 15
        }
      ]
    },
    {
      "cell_type": "markdown",
      "source": [
        "### t.device\n"
      ],
      "metadata": {
        "id": "eOlioP6Rard2"
      }
    },
    {
      "cell_type": "code",
      "source": [
        "t1.device"
      ],
      "metadata": {
        "colab": {
          "base_uri": "https://localhost:8080/"
        },
        "id": "OTo0J0nba2Pv",
        "outputId": "b2b3f106-716f-4834-a838-9bb227845014"
      },
      "execution_count": null,
      "outputs": [
        {
          "output_type": "execute_result",
          "data": {
            "text/plain": [
              "device(type='cpu')"
            ]
          },
          "metadata": {},
          "execution_count": 16
        }
      ]
    },
    {
      "cell_type": "code",
      "source": [
        "torch.cuda.is_available()"
      ],
      "metadata": {
        "colab": {
          "base_uri": "https://localhost:8080/"
        },
        "id": "JiIs1iZ4avbN",
        "outputId": "52d9fe2a-aef3-4135-8431-64ae36eee605"
      },
      "execution_count": null,
      "outputs": [
        {
          "output_type": "execute_result",
          "data": {
            "text/plain": [
              "True"
            ]
          },
          "metadata": {},
          "execution_count": 17
        }
      ]
    },
    {
      "cell_type": "code",
      "source": [
        "cuda_tensor = torch.tensor([1.0,2,3],device = 'cuda')\n",
        "cuda_tensor.device"
      ],
      "metadata": {
        "colab": {
          "base_uri": "https://localhost:8080/"
        },
        "id": "JdFJc2Q1bKLe",
        "outputId": "5b1a3dc8-d4f7-4688-c69b-8053f05c375f"
      },
      "execution_count": null,
      "outputs": [
        {
          "output_type": "execute_result",
          "data": {
            "text/plain": [
              "device(type='cuda', index=0)"
            ]
          },
          "metadata": {},
          "execution_count": 18
        }
      ]
    },
    {
      "cell_type": "code",
      "source": [
        "cuda_tensor = cuda_tensor.to('cpu')\n",
        "cuda_tensor.device"
      ],
      "metadata": {
        "colab": {
          "base_uri": "https://localhost:8080/"
        },
        "id": "OJ_yzxtWbmkg",
        "outputId": "20355543-778b-4e6d-8911-0c87e34cc754"
      },
      "execution_count": null,
      "outputs": [
        {
          "output_type": "execute_result",
          "data": {
            "text/plain": [
              "device(type='cpu')"
            ]
          },
          "metadata": {},
          "execution_count": 20
        }
      ]
    },
    {
      "cell_type": "code",
      "source": [
        "t1 = t1.to('cuda')\n",
        "t1.device"
      ],
      "metadata": {
        "colab": {
          "base_uri": "https://localhost:8080/"
        },
        "id": "O1gvEB6XbwXg",
        "outputId": "a91af103-34eb-4278-b32d-3989e52887dd"
      },
      "execution_count": null,
      "outputs": [
        {
          "output_type": "execute_result",
          "data": {
            "text/plain": [
              "device(type='cuda', index=0)"
            ]
          },
          "metadata": {},
          "execution_count": 22
        }
      ]
    },
    {
      "cell_type": "code",
      "source": [
        "torch.cuda.device_count()"
      ],
      "metadata": {
        "colab": {
          "base_uri": "https://localhost:8080/"
        },
        "id": "hBfY4wDxcBYo",
        "outputId": "dd3045fc-4dc1-4d64-c2a7-de8065c39ca2"
      },
      "execution_count": null,
      "outputs": [
        {
          "output_type": "execute_result",
          "data": {
            "text/plain": [
              "1"
            ]
          },
          "metadata": {},
          "execution_count": 29
        }
      ]
    },
    {
      "cell_type": "code",
      "source": [
        "torch.cuda.get_device_name(0)"
      ],
      "metadata": {
        "colab": {
          "base_uri": "https://localhost:8080/",
          "height": 36
        },
        "id": "Qz4SkrlccunF",
        "outputId": "5b68d164-d5a3-4bc7-9935-d5cbf302b181"
      },
      "execution_count": null,
      "outputs": [
        {
          "output_type": "execute_result",
          "data": {
            "text/plain": [
              "'Tesla T4'"
            ],
            "application/vnd.google.colaboratory.intrinsic+json": {
              "type": "string"
            }
          },
          "metadata": {},
          "execution_count": 30
        }
      ]
    },
    {
      "cell_type": "markdown",
      "source": [
        "## accessing elements"
      ],
      "metadata": {
        "id": "LvSaqwKbcy3_"
      }
    },
    {
      "cell_type": "code",
      "source": [
        "t = torch.tensor([[1,2,3],[4,5,6],[7,8,9]])\n",
        "t[0]"
      ],
      "metadata": {
        "colab": {
          "base_uri": "https://localhost:8080/"
        },
        "id": "oAS1Dh5ZdId_",
        "outputId": "5ce06cdb-ff58-49ba-ecc6-e26c79fe0deb"
      },
      "execution_count": null,
      "outputs": [
        {
          "output_type": "execute_result",
          "data": {
            "text/plain": [
              "tensor([1, 2, 3])"
            ]
          },
          "metadata": {},
          "execution_count": 34
        }
      ]
    },
    {
      "cell_type": "code",
      "source": [
        "t[0][0]"
      ],
      "metadata": {
        "colab": {
          "base_uri": "https://localhost:8080/"
        },
        "id": "bcFJbxModQka",
        "outputId": "277ae44b-fec9-4381-a4a4-0d544b015cdc"
      },
      "execution_count": null,
      "outputs": [
        {
          "output_type": "execute_result",
          "data": {
            "text/plain": [
              "tensor(1)"
            ]
          },
          "metadata": {},
          "execution_count": 35
        }
      ]
    },
    {
      "cell_type": "code",
      "source": [
        "t[:2]"
      ],
      "metadata": {
        "colab": {
          "base_uri": "https://localhost:8080/"
        },
        "id": "nctwuE7BdSeL",
        "outputId": "8d82c45c-73a3-4bcf-9573-b7392f470bd3"
      },
      "execution_count": null,
      "outputs": [
        {
          "output_type": "execute_result",
          "data": {
            "text/plain": [
              "tensor([[1, 2, 3],\n",
              "        [4, 5, 6]])"
            ]
          },
          "metadata": {},
          "execution_count": 36
        }
      ]
    },
    {
      "cell_type": "code",
      "source": [
        "t[:,-1]"
      ],
      "metadata": {
        "colab": {
          "base_uri": "https://localhost:8080/"
        },
        "id": "t4cfUiJ8dfYn",
        "outputId": "eeb6426e-62ba-4b1e-bc82-6dfe6e24c180"
      },
      "execution_count": null,
      "outputs": [
        {
          "output_type": "execute_result",
          "data": {
            "text/plain": [
              "tensor([3, 6, 9])"
            ]
          },
          "metadata": {},
          "execution_count": 37
        }
      ]
    },
    {
      "cell_type": "code",
      "source": [
        "t[1,1:]"
      ],
      "metadata": {
        "colab": {
          "base_uri": "https://localhost:8080/"
        },
        "id": "ip8_MQq-dlTa",
        "outputId": "3a6f63fd-a7c9-4ada-b6f9-809526888da8"
      },
      "execution_count": null,
      "outputs": [
        {
          "output_type": "execute_result",
          "data": {
            "text/plain": [
              "tensor([5, 6])"
            ]
          },
          "metadata": {},
          "execution_count": 38
        }
      ]
    },
    {
      "cell_type": "markdown",
      "source": [
        "## broadcast"
      ],
      "metadata": {
        "id": "dGdfsYCWd_WA"
      }
    },
    {
      "cell_type": "code",
      "source": [
        "t = torch.tensor([[[1,2,3,4,5,6],[1,2,6,4,8,23]]])\n",
        "t>3"
      ],
      "metadata": {
        "colab": {
          "base_uri": "https://localhost:8080/"
        },
        "id": "PYQo4yW_du89",
        "outputId": "65111c8b-723e-4341-dd59-47fe55c33b6d"
      },
      "execution_count": null,
      "outputs": [
        {
          "output_type": "execute_result",
          "data": {
            "text/plain": [
              "tensor([[[False, False, False,  True,  True,  True],\n",
              "         [False, False,  True,  True,  True,  True]]])"
            ]
          },
          "metadata": {},
          "execution_count": 44
        }
      ]
    },
    {
      "cell_type": "markdown",
      "source": [
        "## standard function\n",
        "- torch.sum()\n",
        "- max\n",
        "- min\n",
        "- torch.mul() - a*b\n",
        "- matmul() a@b\n",
        "- .T Transpose\n",
        "- save(a,'filename')\n",
        "- load('filename')"
      ],
      "metadata": {
        "id": "A5K3jHvyd8Yy"
      }
    },
    {
      "cell_type": "code",
      "source": [
        "t1 = torch.tensor([1,2,3])\n",
        "t1 + 10 #also broadcast"
      ],
      "metadata": {
        "colab": {
          "base_uri": "https://localhost:8080/"
        },
        "id": "lJo0nwOTfSkZ",
        "outputId": "7fa6cee0-faf1-401a-b18d-5666e6ab62a4"
      },
      "execution_count": null,
      "outputs": [
        {
          "output_type": "execute_result",
          "data": {
            "text/plain": [
              "tensor([11, 12, 13])"
            ]
          },
          "metadata": {},
          "execution_count": 45
        }
      ]
    },
    {
      "cell_type": "code",
      "source": [
        "t1.sum() # or torch.sum(t1)"
      ],
      "metadata": {
        "colab": {
          "base_uri": "https://localhost:8080/"
        },
        "id": "5hnKnofMfgSU",
        "outputId": "81aae742-33b1-4956-ad75-d154a6e1ab8b"
      },
      "execution_count": null,
      "outputs": [
        {
          "output_type": "execute_result",
          "data": {
            "text/plain": [
              "tensor(6)"
            ]
          },
          "metadata": {},
          "execution_count": 46
        }
      ]
    },
    {
      "cell_type": "code",
      "source": [
        "t1 = torch.tensor([[1,2,3],[4,5,6]])\n",
        "torch.sum(t1,dim = 0)"
      ],
      "metadata": {
        "id": "Taoez6jsfn8W",
        "colab": {
          "base_uri": "https://localhost:8080/"
        },
        "outputId": "e3edea8e-ecc3-43db-8a5f-22066e5681fe"
      },
      "execution_count": null,
      "outputs": [
        {
          "output_type": "execute_result",
          "data": {
            "text/plain": [
              "tensor([5, 7, 9])"
            ]
          },
          "metadata": {},
          "execution_count": 54
        }
      ]
    },
    {
      "cell_type": "code",
      "source": [
        "torch.max(t1, dim = 1)"
      ],
      "metadata": {
        "colab": {
          "base_uri": "https://localhost:8080/"
        },
        "id": "tJYdkYWLgQcC",
        "outputId": "c794a063-adf5-4e77-d1be-e5bb6d9c0a25"
      },
      "execution_count": null,
      "outputs": [
        {
          "output_type": "execute_result",
          "data": {
            "text/plain": [
              "torch.return_types.max(\n",
              "values=tensor([3, 6]),\n",
              "indices=tensor([2, 2]))"
            ]
          },
          "metadata": {},
          "execution_count": 55
        }
      ]
    },
    {
      "cell_type": "code",
      "source": [
        "a = torch.tensor([1,2,3])\n",
        "b = torch.tensor([4,5,6])\n",
        "a*b # or torch.mul(a,b)"
      ],
      "metadata": {
        "colab": {
          "base_uri": "https://localhost:8080/"
        },
        "id": "MQgQyyZTgSz2",
        "outputId": "79443539-9ecf-48e5-a925-d72cc5d01bdf"
      },
      "execution_count": null,
      "outputs": [
        {
          "output_type": "execute_result",
          "data": {
            "text/plain": [
              "tensor([ 4, 10, 18])"
            ]
          },
          "metadata": {},
          "execution_count": 56
        }
      ]
    },
    {
      "cell_type": "code",
      "source": [
        "a=  torch.tensor([[1,2],[3,4]])\n",
        "b = torch.tensor([[1,2],[3,4]])\n",
        "a@b # or torch.matmul(a,b)"
      ],
      "metadata": {
        "colab": {
          "base_uri": "https://localhost:8080/"
        },
        "id": "x-f2Ujmbg9UB",
        "outputId": "47fd792d-b9fa-4444-bcbb-b85eac3c9458"
      },
      "execution_count": null,
      "outputs": [
        {
          "output_type": "execute_result",
          "data": {
            "text/plain": [
              "tensor([[ 7, 10],\n",
              "        [15, 22]])"
            ]
          },
          "metadata": {},
          "execution_count": 59
        }
      ]
    },
    {
      "cell_type": "code",
      "source": [
        "b.T"
      ],
      "metadata": {
        "colab": {
          "base_uri": "https://localhost:8080/"
        },
        "id": "n87brM3ihGMg",
        "outputId": "fc0e3494-b952-4b3c-9443-bd0ce5ab5fbf"
      },
      "execution_count": null,
      "outputs": [
        {
          "output_type": "execute_result",
          "data": {
            "text/plain": [
              "tensor([[1, 3],\n",
              "        [2, 4]])"
            ]
          },
          "metadata": {},
          "execution_count": 60
        }
      ]
    },
    {
      "cell_type": "code",
      "source": [
        "torch.save(a,'tensor_a.pt')"
      ],
      "metadata": {
        "id": "-sfNyVhLhXwU"
      },
      "execution_count": null,
      "outputs": []
    },
    {
      "cell_type": "code",
      "source": [
        "t2 = torch.load('tensor_a.pt')\n",
        "t2 = torch.tensor([[1.0,2],[3,4]])"
      ],
      "metadata": {
        "colab": {
          "base_uri": "https://localhost:8080/"
        },
        "id": "ya2s8byahoWJ",
        "outputId": "a390b402-be43-4c94-b558-14e5d50e039e"
      },
      "execution_count": null,
      "outputs": [
        {
          "output_type": "stream",
          "name": "stderr",
          "text": [
            "<ipython-input-63-93d77877e8f7>:1: FutureWarning: You are using `torch.load` with `weights_only=False` (the current default value), which uses the default pickle module implicitly. It is possible to construct malicious pickle data which will execute arbitrary code during unpickling (See https://github.com/pytorch/pytorch/blob/main/SECURITY.md#untrusted-models for more details). In a future release, the default value for `weights_only` will be flipped to `True`. This limits the functions that could be executed during unpickling. Arbitrary objects will no longer be allowed to be loaded via this mode unless they are explicitly allowlisted by the user via `torch.serialization.add_safe_globals`. We recommend you start setting `weights_only=True` for any use case where you don't have full control of the loaded file. Please open an issue on GitHub for any issues related to this experimental feature.\n",
            "  t2 = torch.load('tensor_a.pt')\n"
          ]
        }
      ]
    },
    {
      "cell_type": "code",
      "source": [
        "t1 = torch.tensor([[1.00001, 2.00001],[3.00001,4.00001]])\n",
        "torch.allclose(t1,t2, atol = 1e-4)"
      ],
      "metadata": {
        "colab": {
          "base_uri": "https://localhost:8080/"
        },
        "id": "iMx8q0Cdh2JH",
        "outputId": "7bce905c-a3ba-4ae0-a214-7188fa7a956c"
      },
      "execution_count": null,
      "outputs": [
        {
          "output_type": "execute_result",
          "data": {
            "text/plain": [
              "True"
            ]
          },
          "metadata": {},
          "execution_count": 64
        }
      ]
    },
    {
      "cell_type": "code",
      "source": [
        "torch.linspace(-5,5,10)"
      ],
      "metadata": {
        "colab": {
          "base_uri": "https://localhost:8080/"
        },
        "id": "omPj-LF_ipEB",
        "outputId": "282252c3-346e-41c2-aadb-e93db4ace19a"
      },
      "execution_count": null,
      "outputs": [
        {
          "output_type": "execute_result",
          "data": {
            "text/plain": [
              "tensor([-5.0000, -3.8889, -2.7778, -1.6667, -0.5556,  0.5556,  1.6667,  2.7778,\n",
              "         3.8889,  5.0000])"
            ]
          },
          "metadata": {},
          "execution_count": 65
        }
      ]
    },
    {
      "cell_type": "code",
      "source": [
        "t2 = t # different names shallow copy\n",
        "t2 = torch.clone(t1)\n",
        "t1,t2"
      ],
      "metadata": {
        "colab": {
          "base_uri": "https://localhost:8080/"
        },
        "id": "SiqnplFxis7o",
        "outputId": "7820550a-5a92-46f1-9871-009c16b0dd32"
      },
      "execution_count": null,
      "outputs": [
        {
          "output_type": "execute_result",
          "data": {
            "text/plain": [
              "(tensor([[1.0000, 2.0000],\n",
              "         [3.0000, 4.0000]]),\n",
              " tensor([[1.0000, 2.0000],\n",
              "         [3.0000, 4.0000]]))"
            ]
          },
          "metadata": {},
          "execution_count": 69
        }
      ]
    },
    {
      "cell_type": "markdown",
      "source": [
        "## autograd"
      ],
      "metadata": {
        "id": "8lBEtvfji3cY"
      }
    },
    {
      "cell_type": "code",
      "source": [
        "x = torch.tensor(2.0, requires_grad = True)\n",
        "y = torch.tensor(3.0, requires_grad = False)\n",
        "z = 3*x**2 + 4*y**2\n",
        "z.backward()\n",
        "x.grad, y.grad"
      ],
      "metadata": {
        "id": "OL0ZurOdjGD4",
        "colab": {
          "base_uri": "https://localhost:8080/"
        },
        "outputId": "d7fb9f2e-cff1-4af9-8451-e6bd9c751bf9"
      },
      "execution_count": null,
      "outputs": [
        {
          "output_type": "execute_result",
          "data": {
            "text/plain": [
              "(tensor(12.), None)"
            ]
          },
          "metadata": {},
          "execution_count": 85
        }
      ]
    },
    {
      "cell_type": "code",
      "source": [
        "x = torch.tensor(2.0, requires_grad = False)\n",
        "w = torch.tensor(3.0, requires_grad = True)\n",
        "b = torch.tensor(1.0, requires_grad = True)\n",
        "\n",
        "y = w * x + b # computed tensor\n",
        "\n",
        "y.backward()\n",
        "x.grad, w.grad, b.grad"
      ],
      "metadata": {
        "colab": {
          "base_uri": "https://localhost:8080/"
        },
        "id": "T9jeZ7Poi--4",
        "outputId": "9a584d2c-1926-4a36-835a-eed1dfcf48ba"
      },
      "execution_count": null,
      "outputs": [
        {
          "output_type": "execute_result",
          "data": {
            "text/plain": [
              "(None, tensor(2.), tensor(1.))"
            ]
          },
          "metadata": {},
          "execution_count": 86
        }
      ]
    },
    {
      "cell_type": "code",
      "source": [
        "x.requires_grad"
      ],
      "metadata": {
        "colab": {
          "base_uri": "https://localhost:8080/"
        },
        "id": "pSMUYGBElsT1",
        "outputId": "a042e601-3a9c-4225-bfd3-97e430a6a438"
      },
      "execution_count": null,
      "outputs": [
        {
          "output_type": "execute_result",
          "data": {
            "text/plain": [
              "False"
            ]
          },
          "metadata": {},
          "execution_count": 87
        }
      ]
    },
    {
      "cell_type": "markdown",
      "source": [
        "## leaf tensors\n",
        "We create them not using operations but using ```torch.tensor()``` or ```torch.rand()```.\n",
        "\n",
        "Gradients is only computed for leaf nodes and that too only for those where ```requires_grad = True```.\n",
        "- is_leaf"
      ],
      "metadata": {
        "id": "GFe2R8obnAG2"
      }
    },
    {
      "cell_type": "code",
      "source": [
        "x = torch.ones(2,2, requires_grad = True) #leaf\n",
        "y = x+2 #intermediate\n",
        "z = y*y*3\n",
        "out = z.mean()\n",
        "\n",
        "out.backward()\n",
        "x.grad, y.grad, z.grad"
      ],
      "metadata": {
        "colab": {
          "base_uri": "https://localhost:8080/"
        },
        "id": "uayH4zvUmCF2",
        "outputId": "3dda7cd6-f18a-4ff5-badb-2d279346d3e8"
      },
      "execution_count": null,
      "outputs": [
        {
          "output_type": "stream",
          "name": "stderr",
          "text": [
            "<ipython-input-89-372c3727bbe9>:7: UserWarning: The .grad attribute of a Tensor that is not a leaf Tensor is being accessed. Its .grad attribute won't be populated during autograd.backward(). If you indeed want the .grad field to be populated for a non-leaf Tensor, use .retain_grad() on the non-leaf Tensor. If you access the non-leaf Tensor by mistake, make sure you access the leaf Tensor instead. See github.com/pytorch/pytorch/pull/30531 for more informations. (Triggered internally at aten/src/ATen/core/TensorBody.h:489.)\n",
            "  x.grad, y.grad, z.grad\n"
          ]
        },
        {
          "output_type": "execute_result",
          "data": {
            "text/plain": [
              "(tensor([[4.5000, 4.5000],\n",
              "         [4.5000, 4.5000]]),\n",
              " None,\n",
              " None)"
            ]
          },
          "metadata": {},
          "execution_count": 89
        }
      ]
    },
    {
      "cell_type": "code",
      "source": [
        "a = torch.rand(2,2) #requires_grad != True\n",
        "b = a+2\n",
        "a.is_leaf,b.is_leaf # so both True"
      ],
      "metadata": {
        "colab": {
          "base_uri": "https://localhost:8080/"
        },
        "id": "oOXBSnUSmpYl",
        "outputId": "5c24a15e-277e-4119-c013-3e5fe402b3d2"
      },
      "execution_count": null,
      "outputs": [
        {
          "output_type": "execute_result",
          "data": {
            "text/plain": [
              "(True, True)"
            ]
          },
          "metadata": {},
          "execution_count": 94
        }
      ]
    },
    {
      "cell_type": "code",
      "source": [
        "c = torch.rand(2,2, requires_grad = True) #requires_grad = True\n",
        "d = c+2\n",
        "c.is_leaf,d.is_leaf # so c True d False"
      ],
      "metadata": {
        "colab": {
          "base_uri": "https://localhost:8080/"
        },
        "id": "HAE0l0rXpimY",
        "outputId": "4a03ee46-4184-4d6b-aaad-8a8a676ea705"
      },
      "execution_count": null,
      "outputs": [
        {
          "output_type": "execute_result",
          "data": {
            "text/plain": [
              "(True, False)"
            ]
          },
          "metadata": {},
          "execution_count": 96
        }
      ]
    },
    {
      "cell_type": "code",
      "source": [
        "x = torch.ones(2,2, requires_grad = True) #leaf\n",
        "y = x+2 #intermediate\n",
        "z = y*y*3\n",
        "out = z.mean()\n",
        "\n",
        "y.retain_grad()\n",
        "z.retain_grad()\n",
        "out.backward()\n",
        "print(x.is_leaf, y.is_leaf, z.is_leaf) # leaf status reamins same\n",
        "print(x.grad, y.grad, z.grad,sep='\\n')"
      ],
      "metadata": {
        "colab": {
          "base_uri": "https://localhost:8080/"
        },
        "id": "ZZjFvE6MpyFs",
        "outputId": "ad1464a8-f3cd-416e-a6a2-fbab936bca0f"
      },
      "execution_count": null,
      "outputs": [
        {
          "output_type": "stream",
          "name": "stdout",
          "text": [
            "True False False\n",
            "tensor([[4.5000, 4.5000],\n",
            "        [4.5000, 4.5000]])\n",
            "tensor([[4.5000, 4.5000],\n",
            "        [4.5000, 4.5000]])\n",
            "tensor([[0.2500, 0.2500],\n",
            "        [0.2500, 0.2500]])\n"
          ]
        }
      ]
    },
    {
      "cell_type": "markdown",
      "source": [
        "## activation functions\n",
        "  - torch.relu()\n",
        "  - torch.sigmoid()\n",
        "  - torch.tanh()\n",
        "  - torch.nn\n",
        "    - torch.nn.ReLU\n",
        "    - torch.nn.Sigmoid\n",
        "    - torch.nn.Tanh\n",
        "    - torch.nn.Softmax\n",
        "    - torch.nn.LeakyReLU\n",
        "    - torch.nn.ELU\n",
        "    - torch.nn.functional\n",
        "      - torch.nn.functional.relu()\n",
        "      - torch.nn.functional.sigmoid()\n",
        "      -.\n",
        "      -.\n",
        "      -.\n"
      ],
      "metadata": {
        "id": "3_KXY6U4qg_A"
      }
    },
    {
      "cell_type": "code",
      "source": [
        "import torch.nn as nn"
      ],
      "metadata": {
        "id": "Ww8RcH6HryPl"
      },
      "execution_count": null,
      "outputs": []
    },
    {
      "cell_type": "code",
      "source": [
        "x = torch.tensor([-2.0,1,0,1,2])\n",
        "print(torch.relu(x))"
      ],
      "metadata": {
        "colab": {
          "base_uri": "https://localhost:8080/"
        },
        "id": "kmbWTGZwr9q9",
        "outputId": "ecc2a418-9551-4d14-f9e8-b73f93d04541"
      },
      "execution_count": null,
      "outputs": [
        {
          "output_type": "stream",
          "name": "stdout",
          "text": [
            "tensor([0., 1., 0., 1., 2.])\n"
          ]
        }
      ]
    },
    {
      "cell_type": "code",
      "source": [
        "obj = nn.ReLU()\n",
        "obj(x)"
      ],
      "metadata": {
        "colab": {
          "base_uri": "https://localhost:8080/"
        },
        "id": "kH2twEGpteQB",
        "outputId": "4f9ea6f9-3f5c-4bd6-c8fd-208b2b9f3724"
      },
      "execution_count": null,
      "outputs": [
        {
          "output_type": "execute_result",
          "data": {
            "text/plain": [
              "tensor([0., 1., 0., 1., 2.])"
            ]
          },
          "metadata": {},
          "execution_count": 106
        }
      ]
    },
    {
      "cell_type": "code",
      "source": [
        "nn.functional.relu(x)"
      ],
      "metadata": {
        "colab": {
          "base_uri": "https://localhost:8080/"
        },
        "id": "zR1VTVtBtnqs",
        "outputId": "9cfada4e-c752-4c1c-fea2-63707a165716"
      },
      "execution_count": null,
      "outputs": [
        {
          "output_type": "execute_result",
          "data": {
            "text/plain": [
              "tensor([0., 1., 0., 1., 2.])"
            ]
          },
          "metadata": {},
          "execution_count": 107
        }
      ]
    },
    {
      "cell_type": "markdown",
      "source": [
        "## Loss functions\n",
        "- nn.MSELoss()\n",
        "- nn.CrossEntropyLoss()\n",
        "- nn.BCELoss()\n",
        "- ... and more ..."
      ],
      "metadata": {
        "id": "VjikK--Sttor"
      }
    },
    {
      "cell_type": "code",
      "source": [
        "y_pred = torch.tensor([1.0,2,3,4])\n",
        "y_true = torch.tensor([1.0,2,2,4])\n",
        "\n",
        "mse = nn.MSELoss()\n",
        "loss = mse(y_pred, y_true)\n",
        "loss"
      ],
      "metadata": {
        "colab": {
          "base_uri": "https://localhost:8080/"
        },
        "id": "FSWm3iIduFgQ",
        "outputId": "6201013c-1556-4883-a72c-ab4b286911ad"
      },
      "execution_count": null,
      "outputs": [
        {
          "output_type": "execute_result",
          "data": {
            "text/plain": [
              "tensor(0.2500)"
            ]
          },
          "metadata": {},
          "execution_count": 112
        }
      ]
    },
    {
      "cell_type": "code",
      "source": [],
      "metadata": {
        "id": "u15eJNM-ugvT"
      },
      "execution_count": null,
      "outputs": []
    }
  ]
}